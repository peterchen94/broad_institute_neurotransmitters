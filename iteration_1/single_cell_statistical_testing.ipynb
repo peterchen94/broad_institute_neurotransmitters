{
 "cells": [
  {
   "cell_type": "code",
   "execution_count": 98,
   "metadata": {},
   "outputs": [],
   "source": [
    "import h5py\n",
    "import numpy as np\n",
    "import pandas as pd\n",
    "import matplotlib.pyplot as plt"
   ]
  },
  {
   "cell_type": "markdown",
   "metadata": {},
   "source": [
    "## Goal: Run statistical analysis for single cell data\n",
    "\n",
    "Steps\n",
    "\n",
    "1. read single cell data and only read in specific genes (columns) specified in external spreadsheet\n",
    "\n",
    "2. apply statistical tests on a column by column basis for all genes for tumor vs ductal cells\n",
    "\n",
    "    * chi sq test for counts of zeros\n",
    "    * t test for raw data (sample means) - one tail = tumor > ductal\n",
    "    * fisher exact test for count of zeros\n",
    "\n",
    "## Outputs\n",
    "    * tumor_ductal_statistical_testing.csv (statistical test results for genes)"
   ]
  },
  {
   "cell_type": "code",
   "execution_count": 145,
   "metadata": {},
   "outputs": [],
   "source": [
    "rows = pd.read_csv('data/rows for X.csv',header = None)\n",
    "\n",
    "row_index = list(rows[0])\n",
    "\n",
    "row_index = [val.lower() for val in row_index]\n",
    "\n",
    "headers = pd.read_csv('data/columns for X.csv', header = None)\n",
    "\n",
    "genes_to_keep = pd.read_csv('data/neurotransmitter genes 101020.csv', header = None)\n",
    "\n",
    "genes_to_keep = list(genes_to_keep[0])\n",
    "\n",
    "column_names = list(headers[0])\n",
    "\n",
    "df_raw = pd.read_csv('data/X.csv',names = column_names, usecols = genes_to_keep)\n",
    "\n",
    "df_raw.shape"
   ]
  },
  {
   "cell_type": "code",
   "execution_count": 129,
   "metadata": {},
   "outputs": [
    {
     "data": {
      "text/plain": [
       "Text(0.5, 1.0, 'percentage of 0s in columns - 153 subset of genes')"
      ]
     },
     "execution_count": 129,
     "metadata": {},
     "output_type": "execute_result"
    },
    {
     "data": {
      "image/png": "[encoded data removed]",
      "text/plain": [
       "<Figure size 432x288 with 1 Axes>"
      ]
     },
     "metadata": {
      "needs_background": "light"
     },
     "output_type": "display_data"
    }
   ],
   "source": [
    "plt.hist((df_raw == 0).sum()/df_raw.shape[0])\n",
    "plt.title('percentage of 0s in columns - 153 subset of genes')"
   ]
  },
  {
   "cell_type": "code",
   "execution_count": 130,
   "metadata": {},
   "outputs": [
    {
     "data": {
      "text/plain": [
       "(88031, 153)"
      ]
     },
     "execution_count": 130,
     "metadata": {},
     "output_type": "execute_result"
    }
   ],
   "source": [
    "df_raw.shape"
   ]
  },
  {
   "cell_type": "code",
   "execution_count": 131,
   "metadata": {},
   "outputs": [],
   "source": [
    "df_raw.index = row_index\n",
    "df_raw.reset_index(inplace=True)"
   ]
  },
  {
   "cell_type": "code",
   "execution_count": 132,
   "metadata": {},
   "outputs": [],
   "source": [
    "df_raw = df_raw.rename({'index':'row_id'}, axis = 1)"
   ]
  },
  {
   "cell_type": "code",
   "execution_count": 155,
   "metadata": {},
   "outputs": [],
   "source": [
    "df_raw.to_csv('data/unscaled_downselected_genes.csv',index = False)"
   ]
  },
  {
   "cell_type": "code",
   "execution_count": 141,
   "metadata": {},
   "outputs": [],
   "source": [
    "df_tumor_ductal = df_raw[(df_raw['row_id'] == 'tumor') | (df_raw['row_id'] == 'ductal')]"
   ]
  },
  {
   "cell_type": "code",
   "execution_count": 147,
   "metadata": {},
   "outputs": [
    {
     "data": {
      "text/plain": [
       "row_id    0.000000\n",
       "GABRD     0.997899\n",
       "HTR6      0.999148\n",
       "HTR1D     0.996431\n",
       "GRIK3     0.994370\n",
       "dtype: float64"
      ]
     },
     "execution_count": 147,
     "metadata": {},
     "output_type": "execute_result"
    }
   ],
   "source": [
    "((df_tumor_ductal == 0).sum()/df_tumor_ductal.shape[0]).head()"
   ]
  },
  {
   "cell_type": "code",
   "execution_count": 213,
   "metadata": {},
   "outputs": [],
   "source": [
    "from scipy.stats import ttest_ind\n",
    "def t_test(x,y,alternative='both-sided'):\n",
    "    _, double_p = ttest_ind(x,y,equal_var = False)\n",
    "    if alternative == 'both-sided':\n",
    "        pval = double_p\n",
    "    elif alternative == 'greater':\n",
    "        if np.mean(x) > np.mean(y):\n",
    "            pval = double_p/2.\n",
    "        else:\n",
    "            pval = 1.0 - double_p/2.\n",
    "    elif alternative == 'less':\n",
    "        if np.mean(x) < np.mean(y):\n",
    "            pval = double_p/2.\n",
    "        else:\n",
    "            pval = 1.0 - double_p/2.\n",
    "    return pval"
   ]
  },
  {
   "cell_type": "code",
   "execution_count": 182,
   "metadata": {},
   "outputs": [],
   "source": [
    "from scipy.stats import ttest_ind, chi2_contingency, fisher_exact"
   ]
  },
  {
   "cell_type": "code",
   "execution_count": 214,
   "metadata": {},
   "outputs": [],
   "source": [
    "gene_list = []\n",
    "ttest_pvalue_list = []\n",
    "chisq_pvalue_list = []\n",
    "fisher_pvalue_list = []\n",
    "more_counts_list = []\n",
    "for gene in genes_to_keep:\n",
    "    tumor_values = df_tumor_ductal[df_tumor_ductal['row_id'] == 'tumor'][gene]\n",
    "    ductal_values = df_tumor_ductal[df_tumor_ductal['row_id'] == 'ductal'][gene]\n",
    "    \n",
    "    ttest_pvalue = t_test(tumor_values, ductal_values, alternative = 'greater')\n",
    "    \n",
    "    tumor_zero_count = np.sum(tumor_values ==0) \n",
    "    tumor_nonzero_count = np.sum(tumor_values !=0) \n",
    "    \n",
    "    ductal_zero_count = np.sum(ductal_values ==0) \n",
    "    ductal_nonzero_count = np.sum(ductal_values !=0) \n",
    "    \n",
    "    contingency = [[tumor_zero_count,ductal_zero_count],\n",
    "              [tumor_nonzero_count,ductal_nonzero_count]]\n",
    "\n",
    "    if (ductal_nonzero_count == 0) and (tumor_nonzero_count == 0):\n",
    "    \n",
    "        chisq_pvalue = 'n/a - all values are zero'\n",
    "        fisher_pvalue = 'n/a - all values are zero'\n",
    "\n",
    "    else:\n",
    "        _, chisq_pvalue, _,_ = chi2_contingency(contingency)\n",
    "        _, fisher_pvalue = fisher_exact(contingency)\n",
    "\n",
    "    if tumor_nonzero_count/tumor_zero_count > ductal_nonzero_count/ductal_zero_count:\n",
    "        more_counts_list.append('tumor')\n",
    "    else:\n",
    "        more_counts_list.append('ductal')\n",
    "        \n",
    "    gene_list.append(gene)\n",
    "    ttest_pvalue_list.append(ttest_pvalue)\n",
    "    chisq_pvalue_list.append(chisq_pvalue)\n",
    "    fisher_pvalue_list.append(fisher_pvalue)"
   ]
  },
  {
   "cell_type": "code",
   "execution_count": 215,
   "metadata": {},
   "outputs": [],
   "source": [
    "df_test_results = pd.DataFrame(\n",
    "{\n",
    "    'gene': gene_list,\n",
    "    'ttest_pvalue': ttest_pvalue_list,\n",
    "    'chisq_pvalue':chisq_pvalue_list,\n",
    "    'fisher_pvalue':fisher_pvalue_list,\n",
    "    'greater_pct_nonzero':more_counts_list\n",
    "}\n",
    ")"
   ]
  },
  {
   "cell_type": "code",
   "execution_count": 217,
   "metadata": {},
   "outputs": [],
   "source": [
    "df_test_results.to_csv('data/tumor_ductal_statistical_testing.csv',index=False)"
   ]
  },
  {
   "cell_type": "markdown",
   "metadata": {},
   "source": [
    "# Scaling and downselection of tumor only genes"
   ]
  },
  {
   "cell_type": "code",
   "execution_count": 138,
   "metadata": {},
   "outputs": [],
   "source": [
    "df_raw_tumor = df_raw[df_raw['row_id'] == 'tumor']\n",
    "\n",
    "df_raw_tumor.to_csv('data/unscaled_tumor_downselected_genes.csv',index = False)\n",
    "\n",
    "df_neurotrans_group = pd.read_csv('data/neurotransmitter_groups.csv')\n",
    "\n",
    "df_neurotrans_group.head()"
   ]
  },
  {
   "cell_type": "code",
   "execution_count": 140,
   "metadata": {},
   "outputs": [],
   "source": [
    "unique_neurotransmitters = df_neurotrans_group['Neurotransmitter Ligand'].unique()\n",
    "unique_neurotransmitters\n",
    "\n",
    "df_list = []\n",
    "for neurotrans, df_neurotrans in df_neurotrans_group.groupby('Neurotransmitter Ligand'):\n",
    "    gene_list = list(df_neurotrans['Genes'].unique())\n",
    "    gene_list = [gene for gene in gene_list if gene in df_raw.columns]\n",
    "    \n",
    "    df_raw_subset = df_raw_tumor[gene_list]\n",
    "    array_raw_subset = np.array(df_raw_subset)\n",
    "    value_90th_percentile = np.percentile(array_raw_subset, q = 90)\n",
    "    print(value_90th_percentile)\n",
    "    "
   ]
  }
 ],
 "metadata": {
  "kernelspec": {
   "display_name": "Python 3",
   "language": "python",
   "name": "python3"
  },
  "language_info": {
   "codemirror_mode": {
    "name": "ipython",
    "version": 3
   },
   "file_extension": ".py",
   "mimetype": "text/x-python",
   "name": "python",
   "nbconvert_exporter": "python",
   "pygments_lexer": "ipython3",
   "version": "3.6.7"
  }
 },
 "nbformat": 4,
 "nbformat_minor": 2
}
