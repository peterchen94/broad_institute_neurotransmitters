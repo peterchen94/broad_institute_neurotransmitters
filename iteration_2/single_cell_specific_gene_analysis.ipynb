{
 "cells": [
  {
   "cell_type": "code",
   "execution_count": 1,
   "metadata": {},
   "outputs": [],
   "source": [
    "import pandas as pd\n",
    "import random\n",
    "import itertools\n",
    "import numpy as np\n",
    "import time \n",
    "import pickle\n",
    "from scipy.stats import ttest_ind, chi2_contingency, fisher_exact, ranksums"
   ]
  },
  {
   "cell_type": "markdown",
   "metadata": {},
   "source": [
    "1. Split single tumor cells from naive into 2 groups: high basal signature (top 25% of tumor cells) and low basal signature (bottom 25% of tumor cells). Perform Wilcoxon rank sum test (2 sided) between those two cell groups to determine which one TACSTD2 has higher expression in.\n",
    "2. Mean expression value of TACSTD2 in naive tumor cells, naive ductal cells, treated tumor cells, treated ductal cells. \n",
    "3. number of cells that have non zero expression of TACSTD2 in naive tumor cells, treated tumor cells, naive ductal cells, treated ductal cells. If you happened to know the total number of cells for naive tumor/treated tumor/naive ductal/treated ductal, so that I can calculate a proportion, that would be awesome.\n",
    "\n",
    "These analyses are basically giving us further proof of whether or not TACSTD2 is a big target in pancreatic cancer, and then whether it is highly enriched in the basal-like group."
   ]
  },
  {
   "cell_type": "code",
   "execution_count": 2,
   "metadata": {},
   "outputs": [],
   "source": [
    "gene = 'TACSTD2'"
   ]
  },
  {
   "cell_type": "code",
   "execution_count": 9,
   "metadata": {},
   "outputs": [],
   "source": [
    "columns_naive = pd.read_csv('../data/columns for X.csv',header = None)\n",
    "columns_naive = list(columns_naive[0])\n",
    "\n",
    "rows_naive = pd.read_csv('../data/rows for X.csv',header = None)\n",
    "cell_type_naive = list(rows_naive[0])\n",
    "cell_type_naive = [val.lower() for val in cell_type_naive]"
   ]
  },
  {
   "cell_type": "code",
   "execution_count": 4,
   "metadata": {},
   "outputs": [],
   "source": [
    "rows_treated = pd.read_csv('../data/treated snRNA cell types list.csv',header = None)\n",
    "cell_type_treated = list(rows_treated[0])\n",
    "cell_type_treated = [val.lower() for val in cell_type_treated]\n",
    "\n",
    "columns_treated = pd.read_csv('../data/treated snRNA gene list.csv', header = None)\n",
    "columns_treated = list(columns_treated[0])"
   ]
  },
  {
   "cell_type": "markdown",
   "metadata": {},
   "source": [
    "### config - choose 1 below"
   ]
  },
  {
   "cell_type": "code",
   "execution_count": 53,
   "metadata": {},
   "outputs": [],
   "source": [
    "name = 'treated'\n",
    "single_cell_file = '../data/X treated.csv'\n",
    "basal_file = 'outputs/basal_gene_scores_treated.csv'\n",
    "cell_type = cell_type_treated\n",
    "columns = columns_treated"
   ]
  },
  {
   "cell_type": "code",
   "execution_count": 64,
   "metadata": {},
   "outputs": [],
   "source": [
    "name = 'naive'\n",
    "single_cell_file = '../data/X.csv'\n",
    "basal_file = 'outputs/basal_gene_scores_naive.csv'\n",
    "cell_type = cell_type_naive\n",
    "columns = columns_naive"
   ]
  },
  {
   "cell_type": "markdown",
   "metadata": {},
   "source": [
    "## Read data"
   ]
  },
  {
   "cell_type": "code",
   "execution_count": null,
   "metadata": {},
   "outputs": [],
   "source": [
    "df_gene = pd.read_csv(single_cell_file, names = columns, usecols = [gene])\n",
    "df_basal = pd.read_csv(basal_file) \n",
    "df_basal[gene] = df_gene[gene].values\n",
    "df_basal_tumor_gene = df_basal[df_basal['cell_type'] == 'tumor'][['score',gene]]"
   ]
  },
  {
   "cell_type": "code",
   "execution_count": null,
   "metadata": {},
   "outputs": [],
   "source": [
    "df_gene['cell_type'] = cell_type"
   ]
  },
  {
   "cell_type": "code",
   "execution_count": null,
   "metadata": {},
   "outputs": [],
   "source": [
    "df_gene['cell_type'].value_counts()"
   ]
  },
  {
   "cell_type": "markdown",
   "metadata": {},
   "source": [
    "## Statistical Testing"
   ]
  },
  {
   "cell_type": "code",
   "execution_count": null,
   "metadata": {},
   "outputs": [],
   "source": [
    "high_values = df_basal_tumor_gene[df_basal_tumor_gene['score'] >= np.percentile(df_basal_tumor_gene['score'], 75)][gene].values\n",
    "low_values = df_basal_tumor_gene[df_basal_tumor_gene['score'] <= np.percentile(df_basal_tumor_gene['score'], 25)][gene].values\n",
    "\n",
    "_,ranksums_pval = ranksums(low_values,high_values)"
   ]
  },
  {
   "cell_type": "code",
   "execution_count": null,
   "metadata": {},
   "outputs": [],
   "source": [
    "ranksums_pval"
   ]
  },
  {
   "cell_type": "code",
   "execution_count": null,
   "metadata": {},
   "outputs": [],
   "source": [
    "high_values.mean()"
   ]
  },
  {
   "cell_type": "code",
   "execution_count": null,
   "metadata": {},
   "outputs": [],
   "source": [
    "low_values.mean()"
   ]
  },
  {
   "cell_type": "markdown",
   "metadata": {},
   "source": [
    "## Mean Values in different cell types"
   ]
  },
  {
   "cell_type": "code",
   "execution_count": null,
   "metadata": {},
   "outputs": [],
   "source": [
    "np.round(df_gene[df_gene['cell_type'] == 'ductal'][gene].mean(),4)"
   ]
  },
  {
   "cell_type": "code",
   "execution_count": null,
   "metadata": {},
   "outputs": [],
   "source": [
    "zero_count_ductal = np.sum(df_gene[df_gene['cell_type'] == 'ductal'][gene] == 0)\n",
    "\n",
    "rows_ductal = df_gene[df_gene['cell_type'] == 'ductal'].shape[0]\n",
    "\n",
    "print(zero_count_ductal)\n",
    "print(rows_ductal)\n",
    "print(np.round(zero_count_ductal/rows_ductal,4))"
   ]
  },
  {
   "cell_type": "code",
   "execution_count": null,
   "metadata": {},
   "outputs": [],
   "source": [
    "np.round(df_gene[df_gene['cell_type'] == 'tumor'][gene].mean(),4)"
   ]
  },
  {
   "cell_type": "code",
   "execution_count": null,
   "metadata": {},
   "outputs": [],
   "source": [
    "zero_count_tumor = np.sum(df_gene[df_gene['cell_type'] == 'tumor'][gene] == 0)\n",
    "\n",
    "rows_tumor = df_gene[df_gene['cell_type'] == 'tumor'].shape[0]\n",
    "\n",
    "print(zero_count_tumor)\n",
    "print(rows_tumor)\n",
    "print(np.round(zero_count_tumor/rows_tumor,4))"
   ]
  },
  {
   "cell_type": "code",
   "execution_count": null,
   "metadata": {},
   "outputs": [],
   "source": []
  },
  {
   "cell_type": "code",
   "execution_count": null,
   "metadata": {},
   "outputs": [],
   "source": []
  }
 ],
 "metadata": {
  "kernelspec": {
   "display_name": "Python 3",
   "language": "python",
   "name": "python3"
  },
  "language_info": {
   "codemirror_mode": {
    "name": "ipython",
    "version": 3
   },
   "file_extension": ".py",
   "mimetype": "text/x-python",
   "name": "python",
   "nbconvert_exporter": "python",
   "pygments_lexer": "ipython3",
   "version": "3.6.7"
  }
 },
 "nbformat": 4,
 "nbformat_minor": 2
}
