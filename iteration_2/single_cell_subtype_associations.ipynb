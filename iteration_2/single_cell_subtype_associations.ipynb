{
 "cells": [
  {
   "cell_type": "code",
   "execution_count": 1,
   "metadata": {
    "id": "S37JJxvvLao4"
   },
   "outputs": [],
   "source": [
    "import pandas as pd\n",
    "import random\n",
    "import itertools\n",
    "import numpy as np\n",
    "import time \n",
    "import pickle\n",
    "from scipy.stats import ttest_ind, chi2_contingency, fisher_exact, ranksums\n",
    "from scipy.stats import ttest_ind, chi2_contingency, fisher_exact, ranksums\n",
    "from scipy.stats import pearsonr, spearmanr"
   ]
  },
  {
   "cell_type": "code",
   "execution_count": 2,
   "metadata": {
    "colab": {
     "base_uri": "https://localhost:8080/"
    },
    "id": "4Wcar-yFLkMu",
    "outputId": "4fdcfe8f-9472-4f19-c335-93b026d6659c"
   },
   "outputs": [
    {
     "name": "stdout",
     "output_type": "stream",
     "text": [
      "Drive already mounted at /content/drive; to attempt to forcibly remount, call drive.mount(\"/content/drive\", force_remount=True).\n"
     ]
    }
   ],
   "source": [
    "from google.colab import drive\n",
    "drive.mount('/content/drive')"
   ]
  },
  {
   "cell_type": "markdown",
   "metadata": {
    "id": "2cIGMELGLapC"
   },
   "source": [
    "# Context and Background"
   ]
  },
  {
   "cell_type": "markdown",
   "metadata": {
    "id": "r_kEziIXLapH"
   },
   "source": [
    "In pancreatic cancer, there are two main subtypes that have been identified: 'basal-like' and 'classical.' However, the problem is that we don't really know which gene to target in 'basal-like' subtypes and which to target in 'classical' subtypes so they're functionally useless because we don't know how to treat each uniquely. Therefore, I think it could be interesting to perform a correlation analysis between each of the genes in our lists (both the FDA and also the novel drug list) and see if any of these genes associate strongly with basal-like or classical signature strength.\n",
    "\n",
    "So, more precisely, we are assessing correlation between GENE X's expression values and signature scores for basal-like/classical across all cells that contain non-zero values for each. Do this only on tumor cells, we don't care about the other cell types. The non-zero expression value of gene X should be pretty straightforward; this is already present in the single cell matrix. To determine the signature score, we will use the same formula as before: \n",
    "\n",
    "**Equation:**\n",
    "Signature Mean - Background Mean = Signature Score \n",
    "\n",
    "For each cell, there will be a unique Signature Mean and a unique Background Mean, and therefore a unique Signature Score for each cell.\n",
    "\n",
    "Calculating Signature Mean:\n",
    "Extract the specific columns that line up with the gene names in the signature (see each attachment separately).\n",
    "Take the average value of all of those column values for that one cell/row. You do not take the average of values down a column in this case.\n",
    "\n",
    "Use the lists attached for basal-like (Moffitt basal-like) and classical like (Moffitt classical-like) to calculate a basal-like signature mean and also a classical signature mean for each cell (you have already computed a background score in the past, so you can just use that same unique value from before for each cell). Then subtract the background mean from the signature mean to get the signature score for each cell. Then similar to the analysis in Part #4, let's generate a list of genes that have the strongest correlations with basal-like scores and then separately also a list that correlates with classical signature scores (using both pearson and spearman, p and r). "
   ]
  },
  {
   "cell_type": "code",
   "execution_count": 2,
   "metadata": {},
   "outputs": [
    {
     "name": "stdout",
     "output_type": "stream",
     "text": [
      "/Users/PeterC/Documents/code/Broad/broad_institute_neurotransmitters\n"
     ]
    }
   ],
   "source": [
    "%cd .."
   ]
  },
  {
   "cell_type": "code",
   "execution_count": 3,
   "metadata": {
    "colab": {
     "base_uri": "https://localhost:8080/"
    },
    "id": "75mnwNnILqzF",
    "outputId": "3172a701-3cc6-4d23-e47e-33573d4eb0bb"
   },
   "outputs": [
    {
     "name": "stdout",
     "output_type": "stream",
     "text": [
      "/content/drive/My Drive/Broad\n"
     ]
    }
   ],
   "source": [
    "%cd drive/My\\ Drive/Broad"
   ]
  },
  {
   "cell_type": "code",
   "execution_count": 4,
   "metadata": {
    "colab": {
     "base_uri": "https://localhost:8080/",
     "height": 35
    },
    "id": "PocDywsfL0g1",
    "outputId": "dac49f34-c5d0-4404-afe2-1b7a7540feaa"
   },
   "outputs": [
    {
     "data": {
      "application/vnd.google.colaboratory.intrinsic+json": {
       "type": "string"
      },
      "text/plain": [
       "'/content/drive/My Drive/Broad'"
      ]
     },
     "execution_count": 4,
     "metadata": {
      "tags": []
     },
     "output_type": "execute_result"
    }
   ],
   "source": [
    "%pwd"
   ]
  },
  {
   "cell_type": "code",
   "execution_count": 7,
   "metadata": {
    "id": "z44dRBySM_Vi"
   },
   "outputs": [],
   "source": [
    "subset = 'novel'\n",
    "gene_file = '110920_new drug list v1.csv'"
   ]
  },
  {
   "cell_type": "code",
   "execution_count": 4,
   "metadata": {
    "id": "hQpqaf_cLapN"
   },
   "outputs": [],
   "source": [
    "column_names = pd.read_csv('data/columns for X.csv',header = None)\n",
    "column_names = list(column_names[0])\n",
    "\n",
    "rows = pd.read_csv('data/rows for X.csv',header = None)\n",
    "cell_type = list(rows[0])\n",
    "cell_type = [val.lower() for val in cell_type]"
   ]
  },
  {
   "cell_type": "markdown",
   "metadata": {},
   "source": [
    "## treated column and rows"
   ]
  },
  {
   "cell_type": "code",
   "execution_count": 20,
   "metadata": {},
   "outputs": [],
   "source": [
    "rows_treated = pd.read_csv('data/treated snRNA cell types list.csv',header = None)\n",
    "cell_type_treated = list(rows_treated[0])\n",
    "cell_type_treated = [val.lower() for val in cell_type_treated]\n",
    "\n",
    "columns_treated = pd.read_csv('data/treated snRNA gene list.csv', header = None)\n",
    "columns_treated = list(columns_treated[0])"
   ]
  },
  {
   "cell_type": "code",
   "execution_count": 5,
   "metadata": {
    "id": "PTGND54GObxk"
   },
   "outputs": [],
   "source": [
    "skip_rows = [idx  for idx, val in enumerate(cell_type) if val != 'tumor']"
   ]
  },
  {
   "cell_type": "code",
   "execution_count": 8,
   "metadata": {
    "id": "QFHWtc1vLapq"
   },
   "outputs": [],
   "source": [
    "gene_list = pd.read_csv('data/{}'.format(gene_file), header = None)\n",
    "gene_list = list(gene_list[0])"
   ]
  },
  {
   "cell_type": "code",
   "execution_count": 9,
   "metadata": {
    "colab": {
     "base_uri": "https://localhost:8080/"
    },
    "id": "Frnu0W7WmQ0R",
    "outputId": "dbac67e2-f975-4bf1-f33c-e00b90cb97d4"
   },
   "outputs": [
    {
     "data": {
      "text/plain": [
       "125"
      ]
     },
     "execution_count": 9,
     "metadata": {},
     "output_type": "execute_result"
    }
   ],
   "source": [
    "len(gene_list)"
   ]
  },
  {
   "cell_type": "code",
   "execution_count": 11,
   "metadata": {
    "id": "QSPQu8ovkcrr"
   },
   "outputs": [],
   "source": [
    "df_gene = pd.read_csv('data/X.csv',names = column_names, skiprows = skip_rows, usecols = lambda x: x in gene_list)"
   ]
  },
  {
   "cell_type": "code",
   "execution_count": 12,
   "metadata": {
    "colab": {
     "base_uri": "https://localhost:8080/"
    },
    "id": "8RN1vMA9Rvtb",
    "outputId": "0a95ce86-e0be-4fb7-ed2e-281ae40d1265"
   },
   "outputs": [
    {
     "data": {
      "text/plain": [
       "44214"
      ]
     },
     "execution_count": 12,
     "metadata": {
      "tags": []
     },
     "output_type": "execute_result"
    }
   ],
   "source": [
    "len(skip_rows)"
   ]
  },
  {
   "cell_type": "code",
   "execution_count": 22,
   "metadata": {
    "id": "dzgQtrhzLap5"
   },
   "outputs": [],
   "source": [
    "def get_background(row):\n",
    "    mean_list = []\n",
    "    n_cols = len(row)    \n",
    "    for i in range(25):\n",
    "        col_rand = random.sample(range(0, n_cols), 50)\n",
    "        row_rand = row.iloc[col_rand]\n",
    "        mean_list.append(np.nanmean(row_rand))\n",
    "        \n",
    "    return np.nanmean(mean_list)"
   ]
  },
  {
   "cell_type": "markdown",
   "metadata": {},
   "source": [
    "## Naive Background"
   ]
  },
  {
   "cell_type": "code",
   "execution_count": null,
   "metadata": {
    "id": "sI89qW8ejfd7"
   },
   "outputs": [],
   "source": [
    "chunksize = 3000\n",
    "background_list = []\n",
    "start = time.time()\n",
    "for idx, chunk in enumerate(pd.read_csv('data/X.csv',names = column_names, chunksize=chunksize)):\n",
    "    background_list.append(chunk.apply(get_background,axis = 1))\n",
    "    print('completed with {} at {:.2f}'.format(idx,time.time()-start))\n",
    "\n",
    "\n",
    "background_arr = pd.concat(background_list,axis = 0)\n",
    "df_background = pd.DataFrame({'value':background_arr})\n",
    "df_background.to_csv('outputs/background_values.csv', index = False)"
   ]
  },
  {
   "cell_type": "markdown",
   "metadata": {},
   "source": [
    "# Treated Background"
   ]
  },
  {
   "cell_type": "code",
   "execution_count": 23,
   "metadata": {},
   "outputs": [
    {
     "name": "stdout",
     "output_type": "stream",
     "text": [
      "completed with 0 at 64.40\n",
      "completed with 1 at 129.80\n",
      "completed with 2 at 187.60\n",
      "completed with 3 at 254.00\n",
      "completed with 4 at 317.76\n",
      "completed with 5 at 386.20\n",
      "completed with 6 at 451.15\n",
      "completed with 7 at 521.97\n",
      "completed with 8 at 592.93\n",
      "completed with 9 at 661.37\n",
      "completed with 10 at 776.20\n",
      "completed with 11 at 857.82\n",
      "completed with 12 at 928.81\n",
      "completed with 13 at 1007.93\n",
      "completed with 14 at 1072.15\n",
      "completed with 15 at 1129.84\n",
      "completed with 16 at 1179.93\n"
     ]
    }
   ],
   "source": [
    "chunksize = 3000\n",
    "background_list = []\n",
    "start = time.time()\n",
    "for idx, chunk in enumerate(pd.read_csv('data/X treated.csv',names = columns_treated, chunksize=chunksize)):\n",
    "    background_list.append(chunk.apply(get_background,axis = 1))\n",
    "    print('completed with {} at {:.2f}'.format(idx,time.time()-start))\n",
    "\n",
    "background_arr = pd.concat(background_list,axis = 0)\n",
    "df_background_treated = pd.DataFrame({'value':background_arr})\n",
    "df_background_treated.to_csv('./iteration_2/outputs/background_values_treated.csv', index = False)"
   ]
  },
  {
   "cell_type": "markdown",
   "metadata": {},
   "source": [
    "#### Output treated for downstream analysis"
   ]
  },
  {
   "cell_type": "code",
   "execution_count": 24,
   "metadata": {},
   "outputs": [],
   "source": [
    "df_basal_list = pd.read_csv('data/Moffitt Basal-like.csv', header = None)\n",
    "basal_gene_list = list(df_basal_list[0])\n",
    "\n",
    "df_gene_basal_treated = pd.read_csv('data/X treated.csv', names = columns_treated, usecols = lambda x: x in basal_gene_list)\n",
    "df_gene_basal_treated['background'] = df_background_treated['value'].values\n",
    "df_gene_basal_treated['score'] = df_gene_basal_treated.mean(axis = 1) - df_gene_basal_treated['background']\n",
    "df_gene_basal_treated['cell_type'] = cell_type_treated\n",
    "df_gene_basal_treated.to_csv('./iteration_2/outputs/basal_gene_scores_treated.csv',index = False)"
   ]
  },
  {
   "cell_type": "markdown",
   "metadata": {},
   "source": [
    "## Basal and Classifical Analysis"
   ]
  },
  {
   "cell_type": "code",
   "execution_count": 12,
   "metadata": {
    "id": "tFazv9pxt8IU"
   },
   "outputs": [],
   "source": [
    "df_background = pd.read_csv('./iteration_2/outputs/background_values.csv')"
   ]
  },
  {
   "cell_type": "code",
   "execution_count": 14,
   "metadata": {
    "id": "EQ-i_-Qijp_d"
   },
   "outputs": [],
   "source": [
    "\n",
    "df_basal_list = pd.read_csv('data/Moffitt Basal-like.csv', header = None)\n",
    "basal_gene_list = list(df_basal_list[0])\n",
    "\n",
    "df_gene_basal = pd.read_csv('data/X.csv', names = column_names, usecols = lambda x: x in basal_gene_list)\n",
    "df_gene_basal['background'] = df_background['value'].values\n",
    "df_gene_basal['score'] = df_gene_basal.mean(axis = 1) - df_background['value'].values\n",
    "df_gene_basal['cell_type'] = cell_type\n",
    "\n",
    "df_gene_basal_tumor = df_gene_basal[df_gene_basal['cell_type'] == 'tumor']\n",
    "basal_score_tumor  = df_gene_basal_tumor['score']\n",
    "\n",
    "df_gene_basal['background'] = df_background['value'].values\n",
    "\n",
    "df_gene_basal.to_csv('./iteration_2/outputs/basal_gene_scores.csv',index = False)"
   ]
  },
  {
   "cell_type": "code",
   "execution_count": null,
   "metadata": {
    "id": "_vFz90eNsa9a"
   },
   "outputs": [],
   "source": [
    "basal_score_tumor.shape"
   ]
  },
  {
   "cell_type": "code",
   "execution_count": null,
   "metadata": {
    "id": "YrheJBGhp_Ax"
   },
   "outputs": [],
   "source": [
    "df_classical_list = pd.read_csv('data/Moffit Classical-like.csv', header = None)\n",
    "classical_gene_list = list(df_classical_list[0])\n",
    "\n",
    "df_gene_classical = pd.read_csv('data/X.csv', names = column_names, usecols = lambda x: x in classical_gene_list)\n",
    "df_gene_classical['score'] = df_gene_classical.mean(axis = 1) - df_background['value'].values\n",
    "df_gene_classical['cell_type'] = cell_type\n",
    "\n",
    "df_gene_classical_tumor = df_gene_classical[df_gene_classical['cell_type'] == 'tumor']\n",
    "classical_score_tumor  = df_gene_classical_tumor['score']"
   ]
  },
  {
   "cell_type": "code",
   "execution_count": null,
   "metadata": {
    "id": "jQd9vJLgpwds"
   },
   "outputs": [],
   "source": [
    "df_gene['basal_score'] = list(basal_score_tumor)\n",
    "df_gene['classical_score'] = list(classical_score_tumor)\n"
   ]
  },
  {
   "cell_type": "code",
   "execution_count": null,
   "metadata": {
    "id": "qCgK0PwWsNc_"
   },
   "outputs": [],
   "source": [
    "df_gene.replace(0,np.nan, inplace = True)"
   ]
  },
  {
   "cell_type": "code",
   "execution_count": null,
   "metadata": {
    "id": "1bBdpBeBj-cg"
   },
   "outputs": [],
   "source": [
    "gene_col_list = []\n",
    "r_pearson_list = []\n",
    "r_spearman_list = []\n",
    "p_pearson_list = []\n",
    "p_spearman_list = []\n",
    "n_rows_list = []\n",
    "\n",
    "for group in ['basal_score','classical_score']:\n",
    "    for gene in gene_list:\n",
    "\n",
    "        df_subset = df_gene[[gene, group]]\n",
    "\n",
    "        df_subset_filtered = df_subset[~df_subset[gene].isna()]\n",
    "        r_pearson, p_pearson = pearsonr(df_subset_filtered[gene], df_subset_filtered[group])\n",
    "        r_spearman, p_spearman = spearmanr(df_subset_filtered[gene], df_subset_filtered[group])\n",
    "\n",
    "        n_rows = df_subset_filtered.shape[0]\n",
    "        gene_col_list.append(gene)\n",
    "        r_pearson_list.append(r_pearson)\n",
    "        p_pearson_list.append(p_pearson)\n",
    "        r_spearman_list.append(r_spearman)\n",
    "        p_spearman_list.append(p_spearman)        \n",
    "        n_rows_list.append(n_rows)\n",
    "      \n",
    "    df_gene_corr = pd.DataFrame({'gene':gene_col_list,\n",
    "                                'r_pearson':np.round(r_pearson_list,5),\n",
    "                                'p_pearson':p_pearson_list,\n",
    "                                'r_spearman':np.round(r_spearman_list,5),\n",
    "                                'p_spearman':p_spearman_list,\n",
    "                                'n_rows_nonzero' : n_rows_list\n",
    "                              })\n",
    "    df_gene_corr.sort_values(by= 'r_pearson', ascending = False, inplace = True)\n",
    "    df_gene_corr.to_csv('outputs/{}_{}_correlation.csv'.format(subset,group),index = False)\n",
    "\n",
    "\n"
   ]
  },
  {
   "cell_type": "code",
   "execution_count": null,
   "metadata": {
    "id": "jiHEwUzPkSFC"
   },
   "outputs": [],
   "source": [
    "df_gene.mean(axis = 1)"
   ]
  },
  {
   "cell_type": "code",
   "execution_count": null,
   "metadata": {
    "id": "SsmqRg7UnpGC"
   },
   "outputs": [],
   "source": []
  }
 ],
 "metadata": {
  "colab": {
   "name": "single_cell_subtype_associations.ipynb",
   "provenance": [],
   "toc_visible": true
  },
  "kernelspec": {
   "display_name": "Python 3",
   "language": "python",
   "name": "python3"
  },
  "language_info": {
   "codemirror_mode": {
    "name": "ipython",
    "version": 3
   },
   "file_extension": ".py",
   "mimetype": "text/x-python",
   "name": "python",
   "nbconvert_exporter": "python",
   "pygments_lexer": "ipython3",
   "version": "3.6.7"
  }
 },
 "nbformat": 4,
 "nbformat_minor": 2
}
