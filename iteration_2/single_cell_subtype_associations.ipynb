{
  "nbformat": 4,
  "nbformat_minor": 0,
  "metadata": {
    "kernelspec": {
      "display_name": "Python 3",
      "language": "python",
      "name": "python3"
    },
    "language_info": {
      "codemirror_mode": {
        "name": "ipython",
        "version": 3
      },
      "file_extension": ".py",
      "mimetype": "text/x-python",
      "name": "python",
      "nbconvert_exporter": "python",
      "pygments_lexer": "ipython3",
      "version": "3.6.7"
    },
    "colab": {
      "name": "single_cell_subtype_associations.ipynb",
      "provenance": [],
      "toc_visible": true
    }
  },
  "cells": [
    {
      "cell_type": "code",
      "metadata": {
        "id": "S37JJxvvLao4"
      },
      "source": [
        "import pandas as pd\n",
        "import random\n",
        "import itertools\n",
        "import numpy as np\n",
        "import time \n",
        "import pickle\n",
        "from scipy.stats import ttest_ind, chi2_contingency, fisher_exact, ranksums"
      ],
      "execution_count": 1,
      "outputs": []
    },
    {
      "cell_type": "code",
      "metadata": {
        "id": "4Wcar-yFLkMu",
        "outputId": "d235a297-0800-454a-b87c-e1745edc6f48",
        "colab": {
          "base_uri": "https://localhost:8080/"
        }
      },
      "source": [
        "from google.colab import drive\n",
        "drive.mount('/content/drive')"
      ],
      "execution_count": 2,
      "outputs": [
        {
          "output_type": "stream",
          "text": [
            "Mounted at /content/drive\n"
          ],
          "name": "stdout"
        }
      ]
    },
    {
      "cell_type": "markdown",
      "metadata": {
        "id": "2cIGMELGLapC"
      },
      "source": [
        "# Context and Background"
      ]
    },
    {
      "cell_type": "markdown",
      "metadata": {
        "id": "r_kEziIXLapH"
      },
      "source": [
        "In pancreatic cancer, there are two main subtypes that have been identified: 'basal-like' and 'classical.' However, the problem is that we don't really know which gene to target in 'basal-like' subtypes and which to target in 'classical' subtypes so they're functionally useless because we don't know how to treat each uniquely. Therefore, I think it could be interesting to perform a correlation analysis between each of the genes in our lists (both the FDA and also the novel drug list) and see if any of these genes associate strongly with basal-like or classical signature strength.\n",
        "\n",
        "So, more precisely, we are assessing correlation between GENE X's expression values and signature scores for basal-like/classical across all cells that contain non-zero values for each. Do this only on tumor cells, we don't care about the other cell types. The non-zero expression value of gene X should be pretty straightforward; this is already present in the single cell matrix. To determine the signature score, we will use the same formula as before: \n",
        "\n",
        "**Equation:**\n",
        "Signature Mean - Background Mean = Signature Score \n",
        "\n",
        "For each cell, there will be a unique Signature Mean and a unique Background Mean, and therefore a unique Signature Score for each cell.\n",
        "\n",
        "Calculating Signature Mean:\n",
        "Extract the specific columns that line up with the gene names in the signature (see each attachment separately).\n",
        "Take the average value of all of those column values for that one cell/row. You do not take the average of values down a column in this case.\n",
        "\n",
        "Use the lists attached for basal-like (Moffitt basal-like) and classical like (Moffitt classical-like) to calculate a basal-like signature mean and also a classical signature mean for each cell (you have already computed a background score in the past, so you can just use that same unique value from before for each cell). Then subtract the background mean from the signature mean to get the signature score for each cell. Then similar to the analysis in Part #4, let's generate a list of genes that have the strongest correlations with basal-like scores and then separately also a list that correlates with classical signature scores (using both pearson and spearman, p and r). "
      ]
    },
    {
      "cell_type": "code",
      "metadata": {
        "id": "75mnwNnILqzF",
        "outputId": "8d9350aa-44bd-4813-d6b9-0c847e241e9b",
        "colab": {
          "base_uri": "https://localhost:8080/"
        }
      },
      "source": [
        "%cd drive/My\\ Drive/Broad"
      ],
      "execution_count": 8,
      "outputs": [
        {
          "output_type": "stream",
          "text": [
            "/content/drive/My Drive/Broad\n"
          ],
          "name": "stdout"
        }
      ]
    },
    {
      "cell_type": "code",
      "metadata": {
        "id": "PocDywsfL0g1",
        "outputId": "649e2639-6608-4a2b-8a24-ec8b15ed47dd",
        "colab": {
          "base_uri": "https://localhost:8080/",
          "height": 35
        }
      },
      "source": [
        "%pwd"
      ],
      "execution_count": 9,
      "outputs": [
        {
          "output_type": "execute_result",
          "data": {
            "application/vnd.google.colaboratory.intrinsic+json": {
              "type": "string"
            },
            "text/plain": [
              "'/content/drive/My Drive/Broad'"
            ]
          },
          "metadata": {
            "tags": []
          },
          "execution_count": 9
        }
      ]
    },
    {
      "cell_type": "code",
      "metadata": {
        "id": "iBqDvDFFLapI"
      },
      "source": [
        "column_names = pd.read_csv('data/columns for X.csv',header = None)\n",
        "column_names = list(column_names[0])"
      ],
      "execution_count": 10,
      "outputs": []
    },
    {
      "cell_type": "code",
      "metadata": {
        "id": "hQpqaf_cLapN"
      },
      "source": [
        "rows = pd.read_csv('data/rows for X.csv',header = None)\n",
        "cell_type = list(rows[0])\n",
        "cell_type = [val.lower() for val in cell_type]"
      ],
      "execution_count": 11,
      "outputs": []
    },
    {
      "cell_type": "code",
      "metadata": {
        "id": "QFHWtc1vLapq"
      },
      "source": [
        "gene_list_22 = pd.read_csv('data/Gene list for DE.csv', header = None)\n",
        "gene_list_22 = list(gene_list_22[0])"
      ],
      "execution_count": null,
      "outputs": []
    },
    {
      "cell_type": "code",
      "metadata": {
        "id": "8ZDz3HSuLapt"
      },
      "source": [
        "groups_list = [\n",
        "    ('neuron development','data/Neuron Development Gene Set.txt'),\n",
        "    ('positive','data/Positive Regulation of Neuron Differentiation.txt'),\n",
        "    ('positive projection','data/Positive Regulation of Neuron Projection Development.txt'),\n",
        "    ('crest diff','data/Neural Crest Cell Differentiation.txt'),\n",
        "    ('crest stem','data/Neural Crest Stem Cell Up.txt'),\n",
        "    ('catabolic', 'data/Neurotransmitter Catabolic Process.txt'),\n",
        "    ('fate','data/Neuron Fate Specification.txt'),\n",
        "    ('binding','data/Neurotransmitter Binding.txt'),\n",
        "    ('biosynthetic','data/Neurotransmitter Biosynthetic Process.txt'),\n",
        "    ('metabolic','data/Neurotransmitter Metabolic Process.txt'),\n",
        "    ('synaptic','data/Synaptic Transmission GABAergic.txt'),\n",
        "]"
      ],
      "execution_count": null,
      "outputs": []
    },
    {
      "cell_type": "code",
      "metadata": {
        "id": "sI7AofMHLapw",
        "outputId": "7a104da7-d7a0-4894-f8cb-cc3f03e53486"
      },
      "source": [
        "gene_group_list = []\n",
        "gene_group_missing_list = []\n",
        "\n",
        "for name,group_file in groups_list:\n",
        "    print(name)\n",
        "    group_genes = pd.read_csv(group_file, header = None)\n",
        "    group_genes = list(group_genes[0])\n",
        "    \n",
        "    group_genes_cols = [gene for gene in group_genes if gene in column_names]\n",
        "    group_genes_missing = [gene for gene in group_genes if gene not in column_names]\n",
        "\n",
        "    gene_group_list.append((name,group_genes_cols))\n",
        "    gene_group_missing_list.append((name,group_genes_missing))"
      ],
      "execution_count": null,
      "outputs": [
        {
          "output_type": "stream",
          "text": [
            "neuron development\n",
            "positive\n",
            "positive projection\n",
            "crest diff\n",
            "crest stem\n",
            "catabolic\n",
            "fate\n",
            "binding\n",
            "biosynthetic\n",
            "metabolic\n",
            "synaptic\n"
          ],
          "name": "stdout"
        }
      ]
    },
    {
      "cell_type": "code",
      "metadata": {
        "id": "dzgQtrhzLap5"
      },
      "source": [
        "def get_background(row):\n",
        "    mean_list = []\n",
        "    n_cols = len(row)    \n",
        "    for i in range(25):\n",
        "        col_rand = random.sample(range(0, n_cols), 50)\n",
        "        row_rand = row.iloc[col_rand]\n",
        "        mean_list.append(np.nanmean(row_rand))\n",
        "        \n",
        "    return np.nanmean(mean_list)"
      ],
      "execution_count": null,
      "outputs": []
    },
    {
      "cell_type": "code",
      "metadata": {
        "id": "wcezeNb8Lap9",
        "outputId": "cca8d031-979d-4415-fbcf-72ef1176a0ac"
      },
      "source": [
        "results_dict = {}\n",
        "for gene in gene_list_22 + ['tumor']:\n",
        "    results_dict[gene] = {}\n",
        "    for group_name,group in gene_group_list:\n",
        "        results_dict[gene][group_name] = {'zero':[],'nonzero':[]}\n",
        "        \n",
        "\n",
        "chunksize = 3000\n",
        "\n",
        "start = time.time()\n",
        "for idx, chunk in enumerate(pd.read_csv('data/X.csv',names = column_names, chunksize=chunksize)):\n",
        "    \n",
        "    chunk['background']  = chunk.apply(get_background,axis = 1)    \n",
        "    chunk['cell_type']  = cell_type[chunk.index[0]:chunk.index[-1]+1]\n",
        "\n",
        "    chunk_tumor = chunk[chunk['cell_type'] == 'tumor']\n",
        "    chunk_ductal = chunk[chunk['cell_type'] == 'ductal']\n",
        "    \n",
        "    for gene_names, gene_col_list in gene_group_list:            \n",
        "        results_dict['tumor'][gene_names]['nonzero'].append(\n",
        "            chunk_tumor[gene_col_list].mean(axis = 1) - chunk_tumor['background'])\n",
        "        \n",
        "        results_dict['tumor'][gene_names]['zero'].append(\n",
        "            chunk_ductal[gene_col_list].mean(axis = 1) - chunk_ductal['background'])\n",
        "        \n",
        "        for gene_filter_name in gene_list_22:\n",
        "            \n",
        "            chunk_zero = chunk_tumor[chunk_tumor[gene_filter_name] == 0]\n",
        "            chunk_nonzero = chunk_tumor[chunk_tumor[gene_filter_name] != 0]        \n",
        "\n",
        "            results_dict[gene_filter_name][gene_names]['zero'].append(\n",
        "                chunk_zero[gene_col_list].mean(axis = 1) - chunk_zero['background'])\n",
        "            \n",
        "            results_dict[gene_filter_name][gene_names]['nonzero'].append(\n",
        "                chunk_nonzero[gene_col_list].mean(axis = 1) - chunk_nonzero['background'])\n",
        "                    \n",
        "    print('chunk {} - {:.2f}'.format(idx,time.time() - start))\n",
        "\n",
        "pickle.dump(results_dict, open(\"data/signature_results_dict_v2.pkl\", \"wb\"))  # save it into a file named save.p"
      ],
      "execution_count": null,
      "outputs": [
        {
          "output_type": "stream",
          "text": [
            "chunk 0 - 163.29\n",
            "chunk 1 - 613.53\n",
            "chunk 2 - 1173.15\n",
            "chunk 3 - 1339.01\n",
            "chunk 4 - 1539.84\n",
            "chunk 5 - 1717.92\n",
            "chunk 6 - 1861.22\n",
            "chunk 7 - 2026.52\n",
            "chunk 8 - 2139.66\n",
            "chunk 9 - 2292.31\n",
            "chunk 10 - 2410.84\n",
            "chunk 11 - 2525.33\n",
            "chunk 12 - 2589.62\n",
            "chunk 13 - 2654.15\n",
            "chunk 14 - 2721.50\n",
            "chunk 15 - 2816.74\n",
            "chunk 16 - 3002.51\n",
            "chunk 17 - 3112.06\n",
            "chunk 18 - 3245.16\n",
            "chunk 19 - 3394.35\n",
            "chunk 20 - 3498.11\n",
            "chunk 21 - 3594.43\n",
            "chunk 22 - 3724.18\n",
            "chunk 23 - 3854.69\n",
            "chunk 24 - 3976.82\n",
            "chunk 25 - 4083.54\n",
            "chunk 26 - 4156.63\n",
            "chunk 27 - 4247.60\n",
            "chunk 28 - 4392.91\n",
            "chunk 29 - 4430.16\n"
          ],
          "name": "stdout"
        }
      ]
    },
    {
      "cell_type": "code",
      "metadata": {
        "id": "rvo7CEOnLaqD",
        "outputId": "de9bad8a-1768-4581-99df-f272d1cf5c53"
      },
      "source": [
        "results_dict.keys()"
      ],
      "execution_count": null,
      "outputs": [
        {
          "output_type": "execute_result",
          "data": {
            "text/plain": [
              "dict_keys(['GABRP', 'SLC6A12', 'GAD1', 'GABRE', 'HTR2B', 'PAM', 'SLC38A1', 'CHRNA5', 'GRIN2D', 'DRD4', 'ABAT', 'GLUL', 'GLUD1', 'HTR1D', 'DDC', 'ACHE', 'SLC1A3', 'SLC38A2', 'SLC38A5', 'ALDH2', 'TAC3', 'ACE', 'GAPDH', 'HPRT1', 'HBS1L', 'AHSP', 'B2M', 'tumor'])"
            ]
          },
          "metadata": {
            "tags": []
          },
          "execution_count": 30
        }
      ]
    },
    {
      "cell_type": "code",
      "metadata": {
        "id": "zE1H-k7wLaqG"
      },
      "source": [
        "import seaborn as sns\n",
        "import matplotlib.pyplot as plt"
      ],
      "execution_count": null,
      "outputs": []
    },
    {
      "cell_type": "code",
      "metadata": {
        "id": "3agL7y9XLaqM"
      },
      "source": [
        "with open(\"data/signature_results_dict_v2.pkl\", \"rb\") as f:\n",
        "    results_dict = pickle.load(f)"
      ],
      "execution_count": null,
      "outputs": []
    },
    {
      "cell_type": "code",
      "metadata": {
        "id": "yTeIYixoLaqP",
        "outputId": "632865c0-28bc-4c30-e3fc-a38531fca55e"
      },
      "source": [
        "layer1_list = []\n",
        "layer2_list = []\n",
        "pval_list = []\n",
        "pva_wilcoxon_list = []\n",
        "count_nonzero_list = []\n",
        "count_zero_list = []\n",
        "\n",
        "mean_nonzero_list = []\n",
        "mean_zero_list = []\n",
        "\n",
        "std_nonzero_list = []\n",
        "std_zero_list = []\n",
        "\n",
        "for layer1, dict1 in results_dict.items():\n",
        "    for layer2, dict2 in dict1.items():\n",
        "        nonzero_vals = list(pd.concat(dict2['nonzero']))\n",
        "        zero_vals = list(pd.concat(dict2['zero']))\n",
        "        _, p_val = ttest_ind(nonzero_vals,zero_vals,equal_var = False)\n",
        "        _, p_val_wilcoxon = ranksums(nonzero_vals,zero_vals)\n",
        "        \n",
        "        plt.figure()\n",
        "        plt.title('{}-{}'.format(layer1,layer2))\n",
        "        zero_labels = ['zero' for val in zero_vals]\n",
        "        nonzero_labels = ['nonzero' for val in nonzero_vals]\n",
        "        df_boxplot = pd.DataFrame({'labels':zero_labels + nonzero_labels,'values': zero_vals+nonzero_vals })\n",
        "        sns.boxplot(x = 'labels', y ='values',data = df_boxplot)\n",
        "        plt.legend(['wilcoxon p = {:.5f}'.format(p_val_wilcoxon)])\n",
        "        plt.savefig('signature_distribution_boxplots/{}-{}_boxplot.png'.format(layer1,layer2))\n",
        "        plt.close()\n",
        "        count_nonzero_list.append(len(nonzero_vals))\n",
        "        count_zero_list.append(len(zero_vals))\n",
        "        \n",
        "        mean_nonzero_list.append(np.mean(nonzero_vals))\n",
        "        mean_zero_list.append(np.mean(zero_vals))\n",
        "        \n",
        "        std_nonzero_list.append(np.std(nonzero_vals))\n",
        "        std_zero_list.append(np.std(zero_vals))\n",
        "        \n",
        "        layer1_list.append(layer1)\n",
        "        layer2_list.append(layer2)\n",
        "        pval_list.append(p_val)\n",
        "        pva_wilcoxon_list.append(p_val_wilcoxon)\n",
        "        \n",
        "        print('{} - {}'.format(layer1,layer2))\n",
        "        \n",
        "        \n",
        "df_results = pd.DataFrame({'split_val':layer1_list,\n",
        "                           'gene_group':layer2_list,\n",
        "                           'p_val_ttest':pval_list,\n",
        "                           'p_val_wilcoxon': pva_wilcoxon_list,\n",
        "                            'count_nonzero':count_nonzero_list,\n",
        "                            'count_zero': count_zero_list,\n",
        "                            'mean_nonzero': mean_nonzero_list,\n",
        "                            'mean_zero': mean_zero_list,\n",
        "                            'std_nonzero':std_nonzero_list,\n",
        "                            'std_zero':std_zero_list})\n",
        "\n",
        "df_results.to_csv('data/signature_p_values_v2.csv',index = False)"
      ],
      "execution_count": null,
      "outputs": [
        {
          "output_type": "stream",
          "text": [
            "GABRP - neuron development\n",
            "GABRP - positive\n",
            "GABRP - positive projection\n",
            "GABRP - crest diff\n",
            "GABRP - crest stem\n",
            "GABRP - catabolic\n",
            "GABRP - fate\n",
            "GABRP - binding\n",
            "GABRP - biosynthetic\n",
            "GABRP - metabolic\n",
            "GABRP - synaptic\n",
            "SLC6A12 - neuron development\n",
            "SLC6A12 - positive\n",
            "SLC6A12 - positive projection\n",
            "SLC6A12 - crest diff\n",
            "SLC6A12 - crest stem\n",
            "SLC6A12 - catabolic\n",
            "SLC6A12 - fate\n",
            "SLC6A12 - binding\n",
            "SLC6A12 - biosynthetic\n",
            "SLC6A12 - metabolic\n",
            "SLC6A12 - synaptic\n",
            "GAD1 - neuron development\n",
            "GAD1 - positive\n",
            "GAD1 - positive projection\n",
            "GAD1 - crest diff\n",
            "GAD1 - crest stem\n",
            "GAD1 - catabolic\n",
            "GAD1 - fate\n",
            "GAD1 - binding\n",
            "GAD1 - biosynthetic\n",
            "GAD1 - metabolic\n",
            "GAD1 - synaptic\n",
            "GABRE - neuron development\n",
            "GABRE - positive\n",
            "GABRE - positive projection\n",
            "GABRE - crest diff\n",
            "GABRE - crest stem\n",
            "GABRE - catabolic\n",
            "GABRE - fate\n",
            "GABRE - binding\n",
            "GABRE - biosynthetic\n",
            "GABRE - metabolic\n",
            "GABRE - synaptic\n",
            "HTR2B - neuron development\n",
            "HTR2B - positive\n",
            "HTR2B - positive projection\n",
            "HTR2B - crest diff\n",
            "HTR2B - crest stem\n",
            "HTR2B - catabolic\n",
            "HTR2B - fate\n",
            "HTR2B - binding\n",
            "HTR2B - biosynthetic\n",
            "HTR2B - metabolic\n",
            "HTR2B - synaptic\n",
            "PAM - neuron development\n",
            "PAM - positive\n",
            "PAM - positive projection\n",
            "PAM - crest diff\n",
            "PAM - crest stem\n",
            "PAM - catabolic\n",
            "PAM - fate\n",
            "PAM - binding\n",
            "PAM - biosynthetic\n",
            "PAM - metabolic\n",
            "PAM - synaptic\n",
            "SLC38A1 - neuron development\n",
            "SLC38A1 - positive\n",
            "SLC38A1 - positive projection\n",
            "SLC38A1 - crest diff\n",
            "SLC38A1 - crest stem\n",
            "SLC38A1 - catabolic\n",
            "SLC38A1 - fate\n",
            "SLC38A1 - binding\n",
            "SLC38A1 - biosynthetic\n",
            "SLC38A1 - metabolic\n",
            "SLC38A1 - synaptic\n",
            "CHRNA5 - neuron development\n",
            "CHRNA5 - positive\n",
            "CHRNA5 - positive projection\n",
            "CHRNA5 - crest diff\n",
            "CHRNA5 - crest stem\n",
            "CHRNA5 - catabolic\n",
            "CHRNA5 - fate\n",
            "CHRNA5 - binding\n",
            "CHRNA5 - biosynthetic\n",
            "CHRNA5 - metabolic\n",
            "CHRNA5 - synaptic\n",
            "GRIN2D - neuron development\n",
            "GRIN2D - positive\n",
            "GRIN2D - positive projection\n",
            "GRIN2D - crest diff\n",
            "GRIN2D - crest stem\n",
            "GRIN2D - catabolic\n",
            "GRIN2D - fate\n",
            "GRIN2D - binding\n",
            "GRIN2D - biosynthetic\n",
            "GRIN2D - metabolic\n",
            "GRIN2D - synaptic\n",
            "DRD4 - neuron development\n",
            "DRD4 - positive\n",
            "DRD4 - positive projection\n",
            "DRD4 - crest diff\n",
            "DRD4 - crest stem\n",
            "DRD4 - catabolic\n",
            "DRD4 - fate\n",
            "DRD4 - binding\n",
            "DRD4 - biosynthetic\n",
            "DRD4 - metabolic\n",
            "DRD4 - synaptic\n",
            "ABAT - neuron development\n",
            "ABAT - positive\n",
            "ABAT - positive projection\n",
            "ABAT - crest diff\n",
            "ABAT - crest stem\n",
            "ABAT - catabolic\n",
            "ABAT - fate\n",
            "ABAT - binding\n",
            "ABAT - biosynthetic\n",
            "ABAT - metabolic\n",
            "ABAT - synaptic\n",
            "GLUL - neuron development\n",
            "GLUL - positive\n",
            "GLUL - positive projection\n",
            "GLUL - crest diff\n",
            "GLUL - crest stem\n",
            "GLUL - catabolic\n",
            "GLUL - fate\n",
            "GLUL - binding\n",
            "GLUL - biosynthetic\n",
            "GLUL - metabolic\n",
            "GLUL - synaptic\n",
            "GLUD1 - neuron development\n",
            "GLUD1 - positive\n",
            "GLUD1 - positive projection\n",
            "GLUD1 - crest diff\n",
            "GLUD1 - crest stem\n",
            "GLUD1 - catabolic\n",
            "GLUD1 - fate\n",
            "GLUD1 - binding\n",
            "GLUD1 - biosynthetic\n",
            "GLUD1 - metabolic\n",
            "GLUD1 - synaptic\n",
            "HTR1D - neuron development\n",
            "HTR1D - positive\n",
            "HTR1D - positive projection\n",
            "HTR1D - crest diff\n",
            "HTR1D - crest stem\n",
            "HTR1D - catabolic\n",
            "HTR1D - fate\n",
            "HTR1D - binding\n",
            "HTR1D - biosynthetic\n",
            "HTR1D - metabolic\n",
            "HTR1D - synaptic\n",
            "DDC - neuron development\n",
            "DDC - positive\n",
            "DDC - positive projection\n",
            "DDC - crest diff\n",
            "DDC - crest stem\n",
            "DDC - catabolic\n",
            "DDC - fate\n",
            "DDC - binding\n",
            "DDC - biosynthetic\n",
            "DDC - metabolic\n",
            "DDC - synaptic\n",
            "ACHE - neuron development\n",
            "ACHE - positive\n",
            "ACHE - positive projection\n",
            "ACHE - crest diff\n",
            "ACHE - crest stem\n",
            "ACHE - catabolic\n",
            "ACHE - fate\n",
            "ACHE - binding\n",
            "ACHE - biosynthetic\n",
            "ACHE - metabolic\n",
            "ACHE - synaptic\n",
            "SLC1A3 - neuron development\n",
            "SLC1A3 - positive\n",
            "SLC1A3 - positive projection\n",
            "SLC1A3 - crest diff\n",
            "SLC1A3 - crest stem\n",
            "SLC1A3 - catabolic\n",
            "SLC1A3 - fate\n",
            "SLC1A3 - binding\n",
            "SLC1A3 - biosynthetic\n",
            "SLC1A3 - metabolic\n",
            "SLC1A3 - synaptic\n",
            "SLC38A2 - neuron development\n",
            "SLC38A2 - positive\n",
            "SLC38A2 - positive projection\n",
            "SLC38A2 - crest diff\n",
            "SLC38A2 - crest stem\n",
            "SLC38A2 - catabolic\n",
            "SLC38A2 - fate\n",
            "SLC38A2 - binding\n",
            "SLC38A2 - biosynthetic\n",
            "SLC38A2 - metabolic\n",
            "SLC38A2 - synaptic\n",
            "SLC38A5 - neuron development\n",
            "SLC38A5 - positive\n",
            "SLC38A5 - positive projection\n",
            "SLC38A5 - crest diff\n",
            "SLC38A5 - crest stem\n",
            "SLC38A5 - catabolic\n",
            "SLC38A5 - fate\n",
            "SLC38A5 - binding\n",
            "SLC38A5 - biosynthetic\n",
            "SLC38A5 - metabolic\n",
            "SLC38A5 - synaptic\n",
            "ALDH2 - neuron development\n",
            "ALDH2 - positive\n",
            "ALDH2 - positive projection\n",
            "ALDH2 - crest diff\n",
            "ALDH2 - crest stem\n",
            "ALDH2 - catabolic\n",
            "ALDH2 - fate\n",
            "ALDH2 - binding\n",
            "ALDH2 - biosynthetic\n",
            "ALDH2 - metabolic\n",
            "ALDH2 - synaptic\n",
            "TAC3 - neuron development\n",
            "TAC3 - positive\n",
            "TAC3 - positive projection\n",
            "TAC3 - crest diff\n",
            "TAC3 - crest stem\n",
            "TAC3 - catabolic\n",
            "TAC3 - fate\n",
            "TAC3 - binding\n",
            "TAC3 - biosynthetic\n",
            "TAC3 - metabolic\n",
            "TAC3 - synaptic\n",
            "ACE - neuron development\n",
            "ACE - positive\n",
            "ACE - positive projection\n",
            "ACE - crest diff\n",
            "ACE - crest stem\n",
            "ACE - catabolic\n",
            "ACE - fate\n",
            "ACE - binding\n",
            "ACE - biosynthetic\n",
            "ACE - metabolic\n",
            "ACE - synaptic\n",
            "GAPDH - neuron development\n",
            "GAPDH - positive\n",
            "GAPDH - positive projection\n",
            "GAPDH - crest diff\n",
            "GAPDH - crest stem\n",
            "GAPDH - catabolic\n",
            "GAPDH - fate\n",
            "GAPDH - binding\n",
            "GAPDH - biosynthetic\n",
            "GAPDH - metabolic\n",
            "GAPDH - synaptic\n",
            "HPRT1 - neuron development\n",
            "HPRT1 - positive\n",
            "HPRT1 - positive projection\n",
            "HPRT1 - crest diff\n",
            "HPRT1 - crest stem\n",
            "HPRT1 - catabolic\n",
            "HPRT1 - fate\n",
            "HPRT1 - binding\n",
            "HPRT1 - biosynthetic\n",
            "HPRT1 - metabolic\n",
            "HPRT1 - synaptic\n",
            "HBS1L - neuron development\n",
            "HBS1L - positive\n",
            "HBS1L - positive projection\n",
            "HBS1L - crest diff\n",
            "HBS1L - crest stem\n",
            "HBS1L - catabolic\n",
            "HBS1L - fate\n",
            "HBS1L - binding\n",
            "HBS1L - biosynthetic\n",
            "HBS1L - metabolic\n",
            "HBS1L - synaptic\n"
          ],
          "name": "stdout"
        },
        {
          "output_type": "stream",
          "text": [
            "/Users/PeterC/anaconda3/lib/python3.6/site-packages/numpy/core/fromnumeric.py:3157: RuntimeWarning: Degrees of freedom <= 0 for slice\n",
            "  **kwargs)\n",
            "/Users/PeterC/anaconda3/lib/python3.6/site-packages/numpy/core/_methods.py:132: RuntimeWarning: invalid value encountered in double_scalars\n",
            "  ret = ret.dtype.type(ret / rcount)\n"
          ],
          "name": "stderr"
        },
        {
          "output_type": "stream",
          "text": [
            "AHSP - neuron development\n"
          ],
          "name": "stdout"
        },
        {
          "output_type": "stream",
          "text": [
            "/Users/PeterC/anaconda3/lib/python3.6/site-packages/numpy/core/fromnumeric.py:3157: RuntimeWarning: Degrees of freedom <= 0 for slice\n",
            "  **kwargs)\n",
            "/Users/PeterC/anaconda3/lib/python3.6/site-packages/numpy/core/_methods.py:132: RuntimeWarning: invalid value encountered in double_scalars\n",
            "  ret = ret.dtype.type(ret / rcount)\n"
          ],
          "name": "stderr"
        },
        {
          "output_type": "stream",
          "text": [
            "AHSP - positive\n"
          ],
          "name": "stdout"
        },
        {
          "output_type": "stream",
          "text": [
            "/Users/PeterC/anaconda3/lib/python3.6/site-packages/numpy/core/fromnumeric.py:3157: RuntimeWarning: Degrees of freedom <= 0 for slice\n",
            "  **kwargs)\n",
            "/Users/PeterC/anaconda3/lib/python3.6/site-packages/numpy/core/_methods.py:132: RuntimeWarning: invalid value encountered in double_scalars\n",
            "  ret = ret.dtype.type(ret / rcount)\n"
          ],
          "name": "stderr"
        },
        {
          "output_type": "stream",
          "text": [
            "AHSP - positive projection\n"
          ],
          "name": "stdout"
        },
        {
          "output_type": "stream",
          "text": [
            "/Users/PeterC/anaconda3/lib/python3.6/site-packages/numpy/core/fromnumeric.py:3157: RuntimeWarning: Degrees of freedom <= 0 for slice\n",
            "  **kwargs)\n",
            "/Users/PeterC/anaconda3/lib/python3.6/site-packages/numpy/core/_methods.py:132: RuntimeWarning: invalid value encountered in double_scalars\n",
            "  ret = ret.dtype.type(ret / rcount)\n"
          ],
          "name": "stderr"
        },
        {
          "output_type": "stream",
          "text": [
            "AHSP - crest diff\n"
          ],
          "name": "stdout"
        },
        {
          "output_type": "stream",
          "text": [
            "/Users/PeterC/anaconda3/lib/python3.6/site-packages/numpy/core/fromnumeric.py:3157: RuntimeWarning: Degrees of freedom <= 0 for slice\n",
            "  **kwargs)\n",
            "/Users/PeterC/anaconda3/lib/python3.6/site-packages/numpy/core/_methods.py:132: RuntimeWarning: invalid value encountered in double_scalars\n",
            "  ret = ret.dtype.type(ret / rcount)\n"
          ],
          "name": "stderr"
        },
        {
          "output_type": "stream",
          "text": [
            "AHSP - crest stem\n"
          ],
          "name": "stdout"
        },
        {
          "output_type": "stream",
          "text": [
            "/Users/PeterC/anaconda3/lib/python3.6/site-packages/numpy/core/fromnumeric.py:3157: RuntimeWarning: Degrees of freedom <= 0 for slice\n",
            "  **kwargs)\n",
            "/Users/PeterC/anaconda3/lib/python3.6/site-packages/numpy/core/_methods.py:132: RuntimeWarning: invalid value encountered in double_scalars\n",
            "  ret = ret.dtype.type(ret / rcount)\n"
          ],
          "name": "stderr"
        },
        {
          "output_type": "stream",
          "text": [
            "AHSP - catabolic\n"
          ],
          "name": "stdout"
        },
        {
          "output_type": "stream",
          "text": [
            "/Users/PeterC/anaconda3/lib/python3.6/site-packages/numpy/core/fromnumeric.py:3157: RuntimeWarning: Degrees of freedom <= 0 for slice\n",
            "  **kwargs)\n",
            "/Users/PeterC/anaconda3/lib/python3.6/site-packages/numpy/core/_methods.py:132: RuntimeWarning: invalid value encountered in double_scalars\n",
            "  ret = ret.dtype.type(ret / rcount)\n"
          ],
          "name": "stderr"
        },
        {
          "output_type": "stream",
          "text": [
            "AHSP - fate\n"
          ],
          "name": "stdout"
        },
        {
          "output_type": "stream",
          "text": [
            "/Users/PeterC/anaconda3/lib/python3.6/site-packages/numpy/core/fromnumeric.py:3157: RuntimeWarning: Degrees of freedom <= 0 for slice\n",
            "  **kwargs)\n",
            "/Users/PeterC/anaconda3/lib/python3.6/site-packages/numpy/core/_methods.py:132: RuntimeWarning: invalid value encountered in double_scalars\n",
            "  ret = ret.dtype.type(ret / rcount)\n"
          ],
          "name": "stderr"
        },
        {
          "output_type": "stream",
          "text": [
            "AHSP - binding\n"
          ],
          "name": "stdout"
        },
        {
          "output_type": "stream",
          "text": [
            "/Users/PeterC/anaconda3/lib/python3.6/site-packages/numpy/core/fromnumeric.py:3157: RuntimeWarning: Degrees of freedom <= 0 for slice\n",
            "  **kwargs)\n",
            "/Users/PeterC/anaconda3/lib/python3.6/site-packages/numpy/core/_methods.py:132: RuntimeWarning: invalid value encountered in double_scalars\n",
            "  ret = ret.dtype.type(ret / rcount)\n"
          ],
          "name": "stderr"
        },
        {
          "output_type": "stream",
          "text": [
            "AHSP - biosynthetic\n"
          ],
          "name": "stdout"
        },
        {
          "output_type": "stream",
          "text": [
            "/Users/PeterC/anaconda3/lib/python3.6/site-packages/numpy/core/fromnumeric.py:3157: RuntimeWarning: Degrees of freedom <= 0 for slice\n",
            "  **kwargs)\n",
            "/Users/PeterC/anaconda3/lib/python3.6/site-packages/numpy/core/_methods.py:132: RuntimeWarning: invalid value encountered in double_scalars\n",
            "  ret = ret.dtype.type(ret / rcount)\n"
          ],
          "name": "stderr"
        },
        {
          "output_type": "stream",
          "text": [
            "AHSP - metabolic\n"
          ],
          "name": "stdout"
        },
        {
          "output_type": "stream",
          "text": [
            "/Users/PeterC/anaconda3/lib/python3.6/site-packages/numpy/core/fromnumeric.py:3157: RuntimeWarning: Degrees of freedom <= 0 for slice\n",
            "  **kwargs)\n",
            "/Users/PeterC/anaconda3/lib/python3.6/site-packages/numpy/core/_methods.py:132: RuntimeWarning: invalid value encountered in double_scalars\n",
            "  ret = ret.dtype.type(ret / rcount)\n"
          ],
          "name": "stderr"
        },
        {
          "output_type": "stream",
          "text": [
            "AHSP - synaptic\n",
            "B2M - neuron development\n",
            "B2M - positive\n",
            "B2M - positive projection\n",
            "B2M - crest diff\n",
            "B2M - crest stem\n",
            "B2M - catabolic\n",
            "B2M - fate\n",
            "B2M - binding\n",
            "B2M - biosynthetic\n",
            "B2M - metabolic\n",
            "B2M - synaptic\n",
            "tumor - neuron development\n",
            "tumor - positive\n",
            "tumor - positive projection\n",
            "tumor - crest diff\n",
            "tumor - crest stem\n",
            "tumor - catabolic\n",
            "tumor - fate\n",
            "tumor - binding\n",
            "tumor - biosynthetic\n",
            "tumor - metabolic\n",
            "tumor - synaptic\n"
          ],
          "name": "stdout"
        }
      ]
    },
    {
      "cell_type": "code",
      "metadata": {
        "id": "6m3-gwjRLaqS",
        "outputId": "b9aa73cb-0b33-4278-9a91-e9a46d7f1073"
      },
      "source": [
        "ttest_ind(nonzero_vals,zero_vals,equal_var = False)"
      ],
      "execution_count": null,
      "outputs": [
        {
          "output_type": "execute_result",
          "data": {
            "text/plain": [
              "Ttest_indResult(statistic=7.933252232259876, pvalue=2.4018454987395488e-15)"
            ]
          },
          "metadata": {
            "tags": []
          },
          "execution_count": 51
        }
      ]
    },
    {
      "cell_type": "code",
      "metadata": {
        "id": "-1DyvTbPLaqW",
        "outputId": "a2aeb4bb-9116-4371-95f4-01b39cc32fbf"
      },
      "source": [
        "df_results[['p_val_ttest','p_val_wilcoxon']].head()"
      ],
      "execution_count": null,
      "outputs": [
        {
          "output_type": "execute_result",
          "data": {
            "text/html": [
              "<div>\n",
              "<style scoped>\n",
              "    .dataframe tbody tr th:only-of-type {\n",
              "        vertical-align: middle;\n",
              "    }\n",
              "\n",
              "    .dataframe tbody tr th {\n",
              "        vertical-align: top;\n",
              "    }\n",
              "\n",
              "    .dataframe thead th {\n",
              "        text-align: right;\n",
              "    }\n",
              "</style>\n",
              "<table border=\"1\" class=\"dataframe\">\n",
              "  <thead>\n",
              "    <tr style=\"text-align: right;\">\n",
              "      <th></th>\n",
              "      <th>p_val_ttest</th>\n",
              "      <th>p_val_wilcoxon</th>\n",
              "    </tr>\n",
              "  </thead>\n",
              "  <tbody>\n",
              "    <tr>\n",
              "      <th>0</th>\n",
              "      <td>0.000000e+00</td>\n",
              "      <td>0.000000e+00</td>\n",
              "    </tr>\n",
              "    <tr>\n",
              "      <th>1</th>\n",
              "      <td>0.000000e+00</td>\n",
              "      <td>0.000000e+00</td>\n",
              "    </tr>\n",
              "    <tr>\n",
              "      <th>2</th>\n",
              "      <td>0.000000e+00</td>\n",
              "      <td>0.000000e+00</td>\n",
              "    </tr>\n",
              "    <tr>\n",
              "      <th>3</th>\n",
              "      <td>2.854205e-34</td>\n",
              "      <td>9.373661e-41</td>\n",
              "    </tr>\n",
              "    <tr>\n",
              "      <th>4</th>\n",
              "      <td>3.127583e-14</td>\n",
              "      <td>2.246967e-06</td>\n",
              "    </tr>\n",
              "  </tbody>\n",
              "</table>\n",
              "</div>"
            ],
            "text/plain": [
              "    p_val_ttest  p_val_wilcoxon\n",
              "0  0.000000e+00    0.000000e+00\n",
              "1  0.000000e+00    0.000000e+00\n",
              "2  0.000000e+00    0.000000e+00\n",
              "3  2.854205e-34    9.373661e-41\n",
              "4  3.127583e-14    2.246967e-06"
            ]
          },
          "metadata": {
            "tags": []
          },
          "execution_count": 29
        }
      ]
    },
    {
      "cell_type": "code",
      "metadata": {
        "id": "wuTXC6GnLaqb",
        "outputId": "ac06040c-352f-41e3-a3d0-b1dc6cb7ed4e"
      },
      "source": [
        "import seaborn as sns\n",
        "sns.distplot(zero_vals)\n",
        "sns.distplot(nonzero_vals)"
      ],
      "execution_count": null,
      "outputs": [
        {
          "output_type": "execute_result",
          "data": {
            "text/plain": [
              "<matplotlib.axes._subplots.AxesSubplot at 0x7fa4cdc87da0>"
            ]
          },
          "metadata": {
            "tags": []
          },
          "execution_count": 42
        },
        {
          "output_type": "display_data",
          "data": {
            "image/png": "[encoded data removed]",
            "text/plain": [
              "<Figure size 432x288 with 1 Axes>"
            ]
          },
          "metadata": {
            "tags": [],
            "needs_background": "light"
          }
        }
      ]
    },
    {
      "cell_type": "code",
      "metadata": {
        "id": "eLOiBrdJLaqe",
        "outputId": "017967e9-4ee2-4810-88f0-112cf4566e86"
      },
      "source": [
        "np.mean(zero_vals)\n",
        "np.mean(nonzero_vals)"
      ],
      "execution_count": null,
      "outputs": [
        {
          "output_type": "execute_result",
          "data": {
            "text/plain": [
              "0.12055423246639663"
            ]
          },
          "metadata": {
            "tags": []
          },
          "execution_count": 48
        }
      ]
    }
  ]
}