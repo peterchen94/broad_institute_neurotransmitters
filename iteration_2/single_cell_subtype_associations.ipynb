{
  "nbformat": 4,
  "nbformat_minor": 0,
  "metadata": {
    "kernelspec": {
      "display_name": "Python 3",
      "language": "python",
      "name": "python3"
    },
    "language_info": {
      "codemirror_mode": {
        "name": "ipython",
        "version": 3
      },
      "file_extension": ".py",
      "mimetype": "text/x-python",
      "name": "python",
      "nbconvert_exporter": "python",
      "pygments_lexer": "ipython3",
      "version": "3.6.7"
    },
    "colab": {
      "name": "single_cell_subtype_associations.ipynb",
      "provenance": [],
      "toc_visible": true
    }
  },
  "cells": [
    {
      "cell_type": "code",
      "metadata": {
        "id": "S37JJxvvLao4"
      },
      "source": [
        "import pandas as pd\n",
        "import random\n",
        "import itertools\n",
        "import numpy as np\n",
        "import time \n",
        "import pickle\n",
        "from scipy.stats import ttest_ind, chi2_contingency, fisher_exact, ranksums"
      ],
      "execution_count": 8,
      "outputs": []
    },
    {
      "cell_type": "code",
      "metadata": {
        "id": "4Wcar-yFLkMu",
        "outputId": "d235a297-0800-454a-b87c-e1745edc6f48",
        "colab": {
          "base_uri": "https://localhost:8080/"
        }
      },
      "source": [
        "from google.colab import drive\n",
        "drive.mount('/content/drive')"
      ],
      "execution_count": 2,
      "outputs": [
        {
          "output_type": "stream",
          "text": [
            "Mounted at /content/drive\n"
          ],
          "name": "stdout"
        }
      ]
    },
    {
      "cell_type": "markdown",
      "metadata": {
        "id": "2cIGMELGLapC"
      },
      "source": [
        "# Context and Background"
      ]
    },
    {
      "cell_type": "markdown",
      "metadata": {
        "id": "r_kEziIXLapH"
      },
      "source": [
        "In pancreatic cancer, there are two main subtypes that have been identified: 'basal-like' and 'classical.' However, the problem is that we don't really know which gene to target in 'basal-like' subtypes and which to target in 'classical' subtypes so they're functionally useless because we don't know how to treat each uniquely. Therefore, I think it could be interesting to perform a correlation analysis between each of the genes in our lists (both the FDA and also the novel drug list) and see if any of these genes associate strongly with basal-like or classical signature strength.\n",
        "\n",
        "So, more precisely, we are assessing correlation between GENE X's expression values and signature scores for basal-like/classical across all cells that contain non-zero values for each. Do this only on tumor cells, we don't care about the other cell types. The non-zero expression value of gene X should be pretty straightforward; this is already present in the single cell matrix. To determine the signature score, we will use the same formula as before: \n",
        "\n",
        "**Equation:**\n",
        "Signature Mean - Background Mean = Signature Score \n",
        "\n",
        "For each cell, there will be a unique Signature Mean and a unique Background Mean, and therefore a unique Signature Score for each cell.\n",
        "\n",
        "Calculating Signature Mean:\n",
        "Extract the specific columns that line up with the gene names in the signature (see each attachment separately).\n",
        "Take the average value of all of those column values for that one cell/row. You do not take the average of values down a column in this case.\n",
        "\n",
        "Use the lists attached for basal-like (Moffitt basal-like) and classical like (Moffitt classical-like) to calculate a basal-like signature mean and also a classical signature mean for each cell (you have already computed a background score in the past, so you can just use that same unique value from before for each cell). Then subtract the background mean from the signature mean to get the signature score for each cell. Then similar to the analysis in Part #4, let's generate a list of genes that have the strongest correlations with basal-like scores and then separately also a list that correlates with classical signature scores (using both pearson and spearman, p and r). "
      ]
    },
    {
      "cell_type": "code",
      "metadata": {
        "id": "75mnwNnILqzF",
        "outputId": "2d4b1c21-1dba-45e0-91c8-e40db9c7c804",
        "colab": {
          "base_uri": "https://localhost:8080/"
        }
      },
      "source": [
        "%cd drive/My\\ Drive/Broad"
      ],
      "execution_count": 1,
      "outputs": [
        {
          "output_type": "stream",
          "text": [
            "/content/drive/My Drive/Broad\n"
          ],
          "name": "stdout"
        }
      ]
    },
    {
      "cell_type": "code",
      "metadata": {
        "id": "PocDywsfL0g1",
        "outputId": "d6d3cd6e-09b8-4c71-f195-332047041777",
        "colab": {
          "base_uri": "https://localhost:8080/",
          "height": 35
        }
      },
      "source": [
        "%pwd"
      ],
      "execution_count": 2,
      "outputs": [
        {
          "output_type": "execute_result",
          "data": {
            "application/vnd.google.colaboratory.intrinsic+json": {
              "type": "string"
            },
            "text/plain": [
              "'/content/drive/My Drive/Broad'"
            ]
          },
          "metadata": {
            "tags": []
          },
          "execution_count": 2
        }
      ]
    },
    {
      "cell_type": "code",
      "metadata": {
        "id": "z44dRBySM_Vi"
      },
      "source": [
        "subset = 'fda'\n",
        "gene_file = '110920_fda drug list v1.csv'"
      ],
      "execution_count": 3,
      "outputs": []
    },
    {
      "cell_type": "code",
      "metadata": {
        "id": "iBqDvDFFLapI"
      },
      "source": [
        "column_names = pd.read_csv('data/columns for X.csv',header = None)\n",
        "column_names = list(column_names[0])"
      ],
      "execution_count": 9,
      "outputs": []
    },
    {
      "cell_type": "code",
      "metadata": {
        "id": "hQpqaf_cLapN"
      },
      "source": [
        "rows = pd.read_csv('data/rows for X.csv',header = None)\n",
        "cell_type = list(rows[0])\n",
        "cell_type = [val.lower() for val in cell_type]"
      ],
      "execution_count": 10,
      "outputs": []
    },
    {
      "cell_type": "code",
      "metadata": {
        "id": "PTGND54GObxk"
      },
      "source": [
        "skip_rows = [idx  for idx, val in enumerate(cell_type) if val != 'tumor']"
      ],
      "execution_count": 11,
      "outputs": []
    },
    {
      "cell_type": "code",
      "metadata": {
        "id": "QFHWtc1vLapq"
      },
      "source": [
        "gene_list = pd.read_csv('data/{}'.format(gene_file), header = None)\n",
        "gene_list = list(gene_list[0])"
      ],
      "execution_count": 12,
      "outputs": []
    },
    {
      "cell_type": "code",
      "metadata": {
        "id": "Frnu0W7WmQ0R",
        "outputId": "a9bcafe7-7f5a-4ee7-e731-7ada9ca0450a",
        "colab": {
          "base_uri": "https://localhost:8080/"
        }
      },
      "source": [
        "len(gene_list)"
      ],
      "execution_count": 41,
      "outputs": [
        {
          "output_type": "execute_result",
          "data": {
            "text/plain": [
              "61"
            ]
          },
          "metadata": {
            "tags": []
          },
          "execution_count": 41
        }
      ]
    },
    {
      "cell_type": "code",
      "metadata": {
        "id": "QSPQu8ovkcrr"
      },
      "source": [
        "df_gene = pd.read_csv('data/X.csv',names = column_names, skiprows = skip_rows, usecols = lambda x: x in gene_list)"
      ],
      "execution_count": null,
      "outputs": []
    },
    {
      "cell_type": "code",
      "metadata": {
        "id": "8RN1vMA9Rvtb",
        "outputId": "c803c936-6ce8-451a-df70-c8b407e647db",
        "colab": {
          "base_uri": "https://localhost:8080/"
        }
      },
      "source": [
        "len(skip_rows)"
      ],
      "execution_count": 38,
      "outputs": [
        {
          "output_type": "execute_result",
          "data": {
            "text/plain": [
              "44214"
            ]
          },
          "metadata": {
            "tags": []
          },
          "execution_count": 38
        }
      ]
    },
    {
      "cell_type": "code",
      "metadata": {
        "id": "dzgQtrhzLap5"
      },
      "source": [
        "def get_background(row):\n",
        "    mean_list = []\n",
        "    n_cols = len(row)    \n",
        "    for i in range(25):\n",
        "        col_rand = random.sample(range(0, n_cols), 50)\n",
        "        row_rand = row.iloc[col_rand]\n",
        "        mean_list.append(np.nanmean(row_rand))\n",
        "        \n",
        "    return np.nanmean(mean_list)"
      ],
      "execution_count": null,
      "outputs": []
    },
    {
      "cell_type": "code",
      "metadata": {
        "id": "Iks1mPXml2fR"
      },
      "source": [
        ""
      ],
      "execution_count": null,
      "outputs": []
    },
    {
      "cell_type": "code",
      "metadata": {
        "id": "wcezeNb8Lap9"
      },
      "source": [
        "chunksize = 3000\n",
        "background_list = []\n",
        "start = time.time()\n",
        "for idx, chunk in enumerate(pd.read_csv('data/X.csv',names = column_names, chunksize=chunksize)):\n",
        "    background_list.append(chunk.apply(get_background,axis = 1))\n",
        "    print('completed with {} at {:.2f}'.format(idx,time.time()-start))\n"
      ],
      "execution_count": null,
      "outputs": []
    },
    {
      "cell_type": "code",
      "metadata": {
        "id": "oP02uvTrYBRs"
      },
      "source": [
        "background_arr = pd.concat(background_list,axis = 0)"
      ],
      "execution_count": null,
      "outputs": []
    },
    {
      "cell_type": "code",
      "metadata": {
        "id": "_5lBiTwSjZwK"
      },
      "source": [
        "df_background = pd.DataFrame({'value':background_arr})"
      ],
      "execution_count": 27,
      "outputs": []
    },
    {
      "cell_type": "code",
      "metadata": {
        "id": "sI89qW8ejfd7"
      },
      "source": [
        "df_background.to_csv('outputs/background_values.csv', index = False)"
      ],
      "execution_count": 28,
      "outputs": []
    },
    {
      "cell_type": "code",
      "metadata": {
        "id": "8ZDz3HSuLapt"
      },
      "source": [
        "groups_list = [\n",
        "    ('basal','data/Moffitt Basal-like.csv'),\n",
        "    ('classifical','data/Moffit Classical-like.csv'),\n",
        "]"
      ],
      "execution_count": 13,
      "outputs": []
    },
    {
      "cell_type": "code",
      "metadata": {
        "id": "EQ-i_-Qijp_d"
      },
      "source": [
        "\n",
        "df_basal_list = pd.read_csv('data/Moffitt Basal-like.csv', header = None)\n",
        "basal_gene_list = list(df_basal_list[0])\n",
        "\n",
        "df_gene_basal = pd.read_csv('data/X.csv', names = column_names, usecols = lambda x: x in basal_gene_list)\n",
        "df_gene_basal['score'] = df_gene_basal.mean(axis = 1) - df_background['value'].values\n",
        "df_gene_basal['cell_type'] = cell_type\n",
        "\n",
        "df_gene_basal_tumor = df_gene_basal[df_gene_basal['cell_type'] == 'tumor']\n",
        "basal_score_tumor  = df_gene_basal_tumor['score']"
      ],
      "execution_count": 45,
      "outputs": []
    },
    {
      "cell_type": "code",
      "metadata": {
        "id": "YrheJBGhp_Ax"
      },
      "source": [
        "df_classical_list = pd.read_csv('data/Moffit Classical-like.csv', header = None)\n",
        "classical_gene_list = list(df_classical_list[0])\n",
        "\n",
        "df_gene_classical = pd.read_csv('data/X.csv', names = column_names, usecols = lambda x: x in classical_gene_list)\n",
        "df_gene_classical['score'] = df_gene_classical.mean(axis = 1) - df_background['value'].values\n",
        "df_gene_classical['cell_type'] = cell_type\n",
        "\n",
        "df_gene_classical_tumor = df_gene_classical[df_gene_classical['cell_type'] == 'tumor']\n",
        "classical_score_tumor  = df_gene_classical_tumor['score']"
      ],
      "execution_count": null,
      "outputs": []
    },
    {
      "cell_type": "code",
      "metadata": {
        "id": "jQd9vJLgpwds"
      },
      "source": [
        "df_gene['basal_score'] = basal_score_tumor\n",
        "df_gene['classical_score'] = classical_score_tumor\n"
      ],
      "execution_count": null,
      "outputs": []
    },
    {
      "cell_type": "code",
      "metadata": {
        "id": "1bBdpBeBj-cg",
        "outputId": "868741fe-736f-40fe-8a09-96c7c3fe5d39",
        "colab": {
          "base_uri": "https://localhost:8080/",
          "height": 217
        }
      },
      "source": [
        "for gene_in "
      ],
      "execution_count": 43,
      "outputs": [
        {
          "output_type": "execute_result",
          "data": {
            "text/html": [
              "<div>\n",
              "<style scoped>\n",
              "    .dataframe tbody tr th:only-of-type {\n",
              "        vertical-align: middle;\n",
              "    }\n",
              "\n",
              "    .dataframe tbody tr th {\n",
              "        vertical-align: top;\n",
              "    }\n",
              "\n",
              "    .dataframe thead th {\n",
              "        text-align: right;\n",
              "    }\n",
              "</style>\n",
              "<table border=\"1\" class=\"dataframe\">\n",
              "  <thead>\n",
              "    <tr style=\"text-align: right;\">\n",
              "      <th></th>\n",
              "      <th>EPHA2</th>\n",
              "      <th>PLA2G2A</th>\n",
              "      <th>CD52</th>\n",
              "      <th>TACSTD2</th>\n",
              "      <th>S1PR1</th>\n",
              "      <th>ATP1A1</th>\n",
              "      <th>ATP1B1</th>\n",
              "      <th>IL1R1</th>\n",
              "      <th>SCTR</th>\n",
              "      <th>CXCR4</th>\n",
              "      <th>RAF1</th>\n",
              "      <th>ATP1B3</th>\n",
              "      <th>TNK2</th>\n",
              "      <th>PDGFRA</th>\n",
              "      <th>FGA</th>\n",
              "      <th>SLC25A4</th>\n",
              "      <th>HDAC3</th>\n",
              "      <th>CSF1R</th>\n",
              "      <th>PDGFRB</th>\n",
              "      <th>GABRP</th>\n",
              "      <th>FGFR4</th>\n",
              "      <th>DDR1</th>\n",
              "      <th>SLC29A1</th>\n",
              "      <th>FYN</th>\n",
              "      <th>NPC1L1</th>\n",
              "      <th>EPHB4</th>\n",
              "      <th>MET</th>\n",
              "      <th>CFTR</th>\n",
              "      <th>HDAC6</th>\n",
              "      <th>IL2RG</th>\n",
              "      <th>DPYSL2</th>\n",
              "      <th>GSR</th>\n",
              "      <th>FGFR1</th>\n",
              "      <th>LYN</th>\n",
              "      <th>CA2</th>\n",
              "      <th>SYK</th>\n",
              "      <th>KCNQ1</th>\n",
              "      <th>FXYD2</th>\n",
              "      <th>CD3E</th>\n",
              "      <th>ADRA2A</th>\n",
              "      <th>FGFR2</th>\n",
              "      <th>SCNN1A</th>\n",
              "      <th>ERBB3</th>\n",
              "      <th>TGFB3</th>\n",
              "      <th>MAP2K1</th>\n",
              "      <th>DPEP1</th>\n",
              "      <th>ERBB2</th>\n",
              "      <th>ACE</th>\n",
              "      <th>YES1</th>\n",
              "      <th>FKBP1A</th>\n",
              "      <th>HCK</th>\n",
              "      <th>SRC</th>\n",
              "      <th>PTK6</th>\n",
              "      <th>EEF2</th>\n",
              "      <th>MAP2K2</th>\n",
              "      <th>INSR</th>\n",
              "      <th>TGFB1</th>\n",
              "      <th>KCNN4</th>\n",
              "      <th>COMT</th>\n",
              "      <th>IFNAR2</th>\n",
              "      <th>ITGB2</th>\n",
              "    </tr>\n",
              "  </thead>\n",
              "  <tbody>\n",
              "    <tr>\n",
              "      <th>0</th>\n",
              "      <td>0.000000</td>\n",
              "      <td>0.0</td>\n",
              "      <td>0.0</td>\n",
              "      <td>2.390654</td>\n",
              "      <td>0.0</td>\n",
              "      <td>0.0</td>\n",
              "      <td>0.000000</td>\n",
              "      <td>0.0</td>\n",
              "      <td>0.0</td>\n",
              "      <td>0.0</td>\n",
              "      <td>0.0</td>\n",
              "      <td>0.000000</td>\n",
              "      <td>0.000000</td>\n",
              "      <td>0.0</td>\n",
              "      <td>0.0</td>\n",
              "      <td>0.0</td>\n",
              "      <td>0.0</td>\n",
              "      <td>0.0</td>\n",
              "      <td>0.0</td>\n",
              "      <td>0.0</td>\n",
              "      <td>0.0</td>\n",
              "      <td>0.0</td>\n",
              "      <td>0.0</td>\n",
              "      <td>0.0</td>\n",
              "      <td>0.0</td>\n",
              "      <td>0.0</td>\n",
              "      <td>0.000000</td>\n",
              "      <td>0.0</td>\n",
              "      <td>0.0</td>\n",
              "      <td>0.0</td>\n",
              "      <td>0.0</td>\n",
              "      <td>0.0</td>\n",
              "      <td>0.0</td>\n",
              "      <td>0.0</td>\n",
              "      <td>0.0</td>\n",
              "      <td>0.0</td>\n",
              "      <td>0.000000</td>\n",
              "      <td>0.0</td>\n",
              "      <td>0.0</td>\n",
              "      <td>0.0</td>\n",
              "      <td>0.0</td>\n",
              "      <td>0.000000</td>\n",
              "      <td>0.0</td>\n",
              "      <td>0.0</td>\n",
              "      <td>2.390654</td>\n",
              "      <td>0.0</td>\n",
              "      <td>0.0</td>\n",
              "      <td>0.0</td>\n",
              "      <td>0.000000</td>\n",
              "      <td>0.0</td>\n",
              "      <td>0.0</td>\n",
              "      <td>2.390654</td>\n",
              "      <td>0.000000</td>\n",
              "      <td>2.390654</td>\n",
              "      <td>0.0</td>\n",
              "      <td>3.426277</td>\n",
              "      <td>0.0</td>\n",
              "      <td>0.000000</td>\n",
              "      <td>0.0</td>\n",
              "      <td>0.0</td>\n",
              "      <td>0.0</td>\n",
              "    </tr>\n",
              "    <tr>\n",
              "      <th>1</th>\n",
              "      <td>0.000000</td>\n",
              "      <td>0.0</td>\n",
              "      <td>0.0</td>\n",
              "      <td>0.000000</td>\n",
              "      <td>0.0</td>\n",
              "      <td>0.0</td>\n",
              "      <td>0.000000</td>\n",
              "      <td>0.0</td>\n",
              "      <td>0.0</td>\n",
              "      <td>0.0</td>\n",
              "      <td>0.0</td>\n",
              "      <td>0.000000</td>\n",
              "      <td>0.000000</td>\n",
              "      <td>0.0</td>\n",
              "      <td>0.0</td>\n",
              "      <td>0.0</td>\n",
              "      <td>0.0</td>\n",
              "      <td>0.0</td>\n",
              "      <td>0.0</td>\n",
              "      <td>0.0</td>\n",
              "      <td>0.0</td>\n",
              "      <td>0.0</td>\n",
              "      <td>0.0</td>\n",
              "      <td>0.0</td>\n",
              "      <td>0.0</td>\n",
              "      <td>0.0</td>\n",
              "      <td>0.000000</td>\n",
              "      <td>0.0</td>\n",
              "      <td>0.0</td>\n",
              "      <td>0.0</td>\n",
              "      <td>0.0</td>\n",
              "      <td>0.0</td>\n",
              "      <td>0.0</td>\n",
              "      <td>0.0</td>\n",
              "      <td>0.0</td>\n",
              "      <td>0.0</td>\n",
              "      <td>0.000000</td>\n",
              "      <td>0.0</td>\n",
              "      <td>0.0</td>\n",
              "      <td>0.0</td>\n",
              "      <td>0.0</td>\n",
              "      <td>0.000000</td>\n",
              "      <td>0.0</td>\n",
              "      <td>0.0</td>\n",
              "      <td>0.000000</td>\n",
              "      <td>0.0</td>\n",
              "      <td>0.0</td>\n",
              "      <td>0.0</td>\n",
              "      <td>0.000000</td>\n",
              "      <td>0.0</td>\n",
              "      <td>0.0</td>\n",
              "      <td>0.000000</td>\n",
              "      <td>0.000000</td>\n",
              "      <td>0.000000</td>\n",
              "      <td>0.0</td>\n",
              "      <td>2.535909</td>\n",
              "      <td>0.0</td>\n",
              "      <td>2.535909</td>\n",
              "      <td>0.0</td>\n",
              "      <td>0.0</td>\n",
              "      <td>0.0</td>\n",
              "    </tr>\n",
              "    <tr>\n",
              "      <th>2</th>\n",
              "      <td>0.000000</td>\n",
              "      <td>0.0</td>\n",
              "      <td>0.0</td>\n",
              "      <td>2.274803</td>\n",
              "      <td>0.0</td>\n",
              "      <td>0.0</td>\n",
              "      <td>0.000000</td>\n",
              "      <td>0.0</td>\n",
              "      <td>0.0</td>\n",
              "      <td>0.0</td>\n",
              "      <td>0.0</td>\n",
              "      <td>2.274803</td>\n",
              "      <td>0.000000</td>\n",
              "      <td>0.0</td>\n",
              "      <td>0.0</td>\n",
              "      <td>0.0</td>\n",
              "      <td>0.0</td>\n",
              "      <td>0.0</td>\n",
              "      <td>0.0</td>\n",
              "      <td>0.0</td>\n",
              "      <td>0.0</td>\n",
              "      <td>0.0</td>\n",
              "      <td>0.0</td>\n",
              "      <td>0.0</td>\n",
              "      <td>0.0</td>\n",
              "      <td>0.0</td>\n",
              "      <td>0.000000</td>\n",
              "      <td>0.0</td>\n",
              "      <td>0.0</td>\n",
              "      <td>0.0</td>\n",
              "      <td>0.0</td>\n",
              "      <td>0.0</td>\n",
              "      <td>0.0</td>\n",
              "      <td>0.0</td>\n",
              "      <td>0.0</td>\n",
              "      <td>0.0</td>\n",
              "      <td>2.274803</td>\n",
              "      <td>0.0</td>\n",
              "      <td>0.0</td>\n",
              "      <td>0.0</td>\n",
              "      <td>0.0</td>\n",
              "      <td>2.274803</td>\n",
              "      <td>0.0</td>\n",
              "      <td>0.0</td>\n",
              "      <td>2.274803</td>\n",
              "      <td>0.0</td>\n",
              "      <td>0.0</td>\n",
              "      <td>0.0</td>\n",
              "      <td>0.000000</td>\n",
              "      <td>0.0</td>\n",
              "      <td>0.0</td>\n",
              "      <td>0.000000</td>\n",
              "      <td>2.274803</td>\n",
              "      <td>0.000000</td>\n",
              "      <td>0.0</td>\n",
              "      <td>0.000000</td>\n",
              "      <td>0.0</td>\n",
              "      <td>2.274803</td>\n",
              "      <td>0.0</td>\n",
              "      <td>0.0</td>\n",
              "      <td>0.0</td>\n",
              "    </tr>\n",
              "    <tr>\n",
              "      <th>3</th>\n",
              "      <td>1.918477</td>\n",
              "      <td>0.0</td>\n",
              "      <td>0.0</td>\n",
              "      <td>1.918477</td>\n",
              "      <td>0.0</td>\n",
              "      <td>0.0</td>\n",
              "      <td>0.000000</td>\n",
              "      <td>0.0</td>\n",
              "      <td>0.0</td>\n",
              "      <td>0.0</td>\n",
              "      <td>0.0</td>\n",
              "      <td>0.000000</td>\n",
              "      <td>1.918477</td>\n",
              "      <td>0.0</td>\n",
              "      <td>0.0</td>\n",
              "      <td>0.0</td>\n",
              "      <td>0.0</td>\n",
              "      <td>0.0</td>\n",
              "      <td>0.0</td>\n",
              "      <td>0.0</td>\n",
              "      <td>0.0</td>\n",
              "      <td>0.0</td>\n",
              "      <td>0.0</td>\n",
              "      <td>0.0</td>\n",
              "      <td>0.0</td>\n",
              "      <td>0.0</td>\n",
              "      <td>0.000000</td>\n",
              "      <td>0.0</td>\n",
              "      <td>0.0</td>\n",
              "      <td>0.0</td>\n",
              "      <td>0.0</td>\n",
              "      <td>0.0</td>\n",
              "      <td>0.0</td>\n",
              "      <td>0.0</td>\n",
              "      <td>0.0</td>\n",
              "      <td>0.0</td>\n",
              "      <td>2.535374</td>\n",
              "      <td>0.0</td>\n",
              "      <td>0.0</td>\n",
              "      <td>0.0</td>\n",
              "      <td>0.0</td>\n",
              "      <td>0.000000</td>\n",
              "      <td>0.0</td>\n",
              "      <td>0.0</td>\n",
              "      <td>0.000000</td>\n",
              "      <td>0.0</td>\n",
              "      <td>0.0</td>\n",
              "      <td>0.0</td>\n",
              "      <td>0.000000</td>\n",
              "      <td>0.0</td>\n",
              "      <td>0.0</td>\n",
              "      <td>0.000000</td>\n",
              "      <td>0.000000</td>\n",
              "      <td>0.000000</td>\n",
              "      <td>0.0</td>\n",
              "      <td>1.918477</td>\n",
              "      <td>0.0</td>\n",
              "      <td>0.000000</td>\n",
              "      <td>0.0</td>\n",
              "      <td>0.0</td>\n",
              "      <td>0.0</td>\n",
              "    </tr>\n",
              "    <tr>\n",
              "      <th>4</th>\n",
              "      <td>0.000000</td>\n",
              "      <td>0.0</td>\n",
              "      <td>0.0</td>\n",
              "      <td>1.751662</td>\n",
              "      <td>0.0</td>\n",
              "      <td>0.0</td>\n",
              "      <td>1.751662</td>\n",
              "      <td>0.0</td>\n",
              "      <td>0.0</td>\n",
              "      <td>0.0</td>\n",
              "      <td>0.0</td>\n",
              "      <td>0.000000</td>\n",
              "      <td>0.000000</td>\n",
              "      <td>0.0</td>\n",
              "      <td>0.0</td>\n",
              "      <td>0.0</td>\n",
              "      <td>0.0</td>\n",
              "      <td>0.0</td>\n",
              "      <td>0.0</td>\n",
              "      <td>0.0</td>\n",
              "      <td>0.0</td>\n",
              "      <td>0.0</td>\n",
              "      <td>0.0</td>\n",
              "      <td>0.0</td>\n",
              "      <td>0.0</td>\n",
              "      <td>0.0</td>\n",
              "      <td>1.751662</td>\n",
              "      <td>0.0</td>\n",
              "      <td>0.0</td>\n",
              "      <td>0.0</td>\n",
              "      <td>0.0</td>\n",
              "      <td>0.0</td>\n",
              "      <td>0.0</td>\n",
              "      <td>0.0</td>\n",
              "      <td>0.0</td>\n",
              "      <td>0.0</td>\n",
              "      <td>0.000000</td>\n",
              "      <td>0.0</td>\n",
              "      <td>0.0</td>\n",
              "      <td>0.0</td>\n",
              "      <td>0.0</td>\n",
              "      <td>0.000000</td>\n",
              "      <td>0.0</td>\n",
              "      <td>0.0</td>\n",
              "      <td>0.000000</td>\n",
              "      <td>0.0</td>\n",
              "      <td>0.0</td>\n",
              "      <td>0.0</td>\n",
              "      <td>1.751662</td>\n",
              "      <td>0.0</td>\n",
              "      <td>0.0</td>\n",
              "      <td>0.000000</td>\n",
              "      <td>0.000000</td>\n",
              "      <td>0.000000</td>\n",
              "      <td>0.0</td>\n",
              "      <td>1.751662</td>\n",
              "      <td>0.0</td>\n",
              "      <td>0.000000</td>\n",
              "      <td>0.0</td>\n",
              "      <td>0.0</td>\n",
              "      <td>0.0</td>\n",
              "    </tr>\n",
              "  </tbody>\n",
              "</table>\n",
              "</div>"
            ],
            "text/plain": [
              "      EPHA2  PLA2G2A  CD52   TACSTD2  ...     KCNN4  COMT  IFNAR2  ITGB2\n",
              "0  0.000000      0.0   0.0  2.390654  ...  0.000000   0.0     0.0    0.0\n",
              "1  0.000000      0.0   0.0  0.000000  ...  2.535909   0.0     0.0    0.0\n",
              "2  0.000000      0.0   0.0  2.274803  ...  2.274803   0.0     0.0    0.0\n",
              "3  1.918477      0.0   0.0  1.918477  ...  0.000000   0.0     0.0    0.0\n",
              "4  0.000000      0.0   0.0  1.751662  ...  0.000000   0.0     0.0    0.0\n",
              "\n",
              "[5 rows x 61 columns]"
            ]
          },
          "metadata": {
            "tags": []
          },
          "execution_count": 43
        }
      ]
    },
    {
      "cell_type": "code",
      "metadata": {
        "id": "jiHEwUzPkSFC",
        "outputId": "9746b865-9a57-4c97-fe32-af2600ca3b11",
        "colab": {
          "base_uri": "https://localhost:8080/"
        }
      },
      "source": [
        "df_gene.mean(axis = 1)"
      ],
      "execution_count": 44,
      "outputs": [
        {
          "output_type": "execute_result",
          "data": {
            "text/plain": [
              "0        0.212933\n",
              "1        0.083145\n",
              "2        0.261043\n",
              "3        0.167365\n",
              "4        0.143579\n",
              "           ...   \n",
              "43812    0.393958\n",
              "43813    0.277922\n",
              "43814    0.224782\n",
              "43815    0.338442\n",
              "43816    0.333135\n",
              "Length: 43817, dtype: float64"
            ]
          },
          "metadata": {
            "tags": []
          },
          "execution_count": 44
        }
      ]
    },
    {
      "cell_type": "code",
      "metadata": {
        "id": "SsmqRg7UnpGC"
      },
      "source": [
        ""
      ],
      "execution_count": null,
      "outputs": []
    }
  ]
}