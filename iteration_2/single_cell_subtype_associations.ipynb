{
  "nbformat": 4,
  "nbformat_minor": 0,
  "metadata": {
    "kernelspec": {
      "display_name": "Python 3",
      "language": "python",
      "name": "python3"
    },
    "language_info": {
      "codemirror_mode": {
        "name": "ipython",
        "version": 3
      },
      "file_extension": ".py",
      "mimetype": "text/x-python",
      "name": "python",
      "nbconvert_exporter": "python",
      "pygments_lexer": "ipython3",
      "version": "3.6.7"
    },
    "colab": {
      "name": "single_cell_subtype_associations.ipynb",
      "provenance": [],
      "toc_visible": true
    }
  },
  "cells": [
    {
      "cell_type": "code",
      "metadata": {
        "id": "S37JJxvvLao4"
      },
      "source": [
        "import pandas as pd\n",
        "import random\n",
        "import itertools\n",
        "import numpy as np\n",
        "import time \n",
        "import pickle\n",
        "from scipy.stats import ttest_ind, chi2_contingency, fisher_exact, ranksums"
      ],
      "execution_count": 8,
      "outputs": []
    },
    {
      "cell_type": "code",
      "metadata": {
        "id": "4Wcar-yFLkMu",
        "outputId": "d235a297-0800-454a-b87c-e1745edc6f48",
        "colab": {
          "base_uri": "https://localhost:8080/"
        }
      },
      "source": [
        "from google.colab import drive\n",
        "drive.mount('/content/drive')"
      ],
      "execution_count": 2,
      "outputs": [
        {
          "output_type": "stream",
          "text": [
            "Mounted at /content/drive\n"
          ],
          "name": "stdout"
        }
      ]
    },
    {
      "cell_type": "markdown",
      "metadata": {
        "id": "2cIGMELGLapC"
      },
      "source": [
        "# Context and Background"
      ]
    },
    {
      "cell_type": "markdown",
      "metadata": {
        "id": "r_kEziIXLapH"
      },
      "source": [
        "In pancreatic cancer, there are two main subtypes that have been identified: 'basal-like' and 'classical.' However, the problem is that we don't really know which gene to target in 'basal-like' subtypes and which to target in 'classical' subtypes so they're functionally useless because we don't know how to treat each uniquely. Therefore, I think it could be interesting to perform a correlation analysis between each of the genes in our lists (both the FDA and also the novel drug list) and see if any of these genes associate strongly with basal-like or classical signature strength.\n",
        "\n",
        "So, more precisely, we are assessing correlation between GENE X's expression values and signature scores for basal-like/classical across all cells that contain non-zero values for each. Do this only on tumor cells, we don't care about the other cell types. The non-zero expression value of gene X should be pretty straightforward; this is already present in the single cell matrix. To determine the signature score, we will use the same formula as before: \n",
        "\n",
        "**Equation:**\n",
        "Signature Mean - Background Mean = Signature Score \n",
        "\n",
        "For each cell, there will be a unique Signature Mean and a unique Background Mean, and therefore a unique Signature Score for each cell.\n",
        "\n",
        "Calculating Signature Mean:\n",
        "Extract the specific columns that line up with the gene names in the signature (see each attachment separately).\n",
        "Take the average value of all of those column values for that one cell/row. You do not take the average of values down a column in this case.\n",
        "\n",
        "Use the lists attached for basal-like (Moffitt basal-like) and classical like (Moffitt classical-like) to calculate a basal-like signature mean and also a classical signature mean for each cell (you have already computed a background score in the past, so you can just use that same unique value from before for each cell). Then subtract the background mean from the signature mean to get the signature score for each cell. Then similar to the analysis in Part #4, let's generate a list of genes that have the strongest correlations with basal-like scores and then separately also a list that correlates with classical signature scores (using both pearson and spearman, p and r). "
      ]
    },
    {
      "cell_type": "code",
      "metadata": {
        "id": "75mnwNnILqzF",
        "outputId": "2d4b1c21-1dba-45e0-91c8-e40db9c7c804",
        "colab": {
          "base_uri": "https://localhost:8080/"
        }
      },
      "source": [
        "%cd drive/My\\ Drive/Broad"
      ],
      "execution_count": 1,
      "outputs": [
        {
          "output_type": "stream",
          "text": [
            "/content/drive/My Drive/Broad\n"
          ],
          "name": "stdout"
        }
      ]
    },
    {
      "cell_type": "code",
      "metadata": {
        "id": "PocDywsfL0g1",
        "outputId": "d6d3cd6e-09b8-4c71-f195-332047041777",
        "colab": {
          "base_uri": "https://localhost:8080/",
          "height": 35
        }
      },
      "source": [
        "%pwd"
      ],
      "execution_count": 2,
      "outputs": [
        {
          "output_type": "execute_result",
          "data": {
            "application/vnd.google.colaboratory.intrinsic+json": {
              "type": "string"
            },
            "text/plain": [
              "'/content/drive/My Drive/Broad'"
            ]
          },
          "metadata": {
            "tags": []
          },
          "execution_count": 2
        }
      ]
    },
    {
      "cell_type": "code",
      "metadata": {
        "id": "z44dRBySM_Vi"
      },
      "source": [
        "subset = 'fda'\n",
        "gene_file = '110920_fda drug list v1.csv'"
      ],
      "execution_count": 3,
      "outputs": []
    },
    {
      "cell_type": "code",
      "metadata": {
        "id": "iBqDvDFFLapI"
      },
      "source": [
        "column_names = pd.read_csv('data/columns for X.csv',header = None)\n",
        "column_names = list(column_names[0])"
      ],
      "execution_count": 9,
      "outputs": []
    },
    {
      "cell_type": "code",
      "metadata": {
        "id": "hQpqaf_cLapN"
      },
      "source": [
        "rows = pd.read_csv('data/rows for X.csv',header = None)\n",
        "cell_type = list(rows[0])\n",
        "cell_type = [val.lower() for val in cell_type]"
      ],
      "execution_count": 10,
      "outputs": []
    },
    {
      "cell_type": "code",
      "metadata": {
        "id": "PTGND54GObxk"
      },
      "source": [
        "skip_rows = [idx  for idx, val in enumerate(cell_type) if val != 'tumor']"
      ],
      "execution_count": 11,
      "outputs": []
    },
    {
      "cell_type": "code",
      "metadata": {
        "id": "QFHWtc1vLapq"
      },
      "source": [
        "gene_list = pd.read_csv('data/{}'.format(gene_file), header = None)\n",
        "gene_list = list(gene_list[0])"
      ],
      "execution_count": 12,
      "outputs": []
    },
    {
      "cell_type": "code",
      "metadata": {
        "id": "8ZDz3HSuLapt"
      },
      "source": [
        "groups_list = [\n",
        "    ('basal','data/Moffitt Basal-like.csv'),\n",
        "    ('classifical','data/Moffit Classical-like.csv'),\n",
        "]"
      ],
      "execution_count": 13,
      "outputs": []
    },
    {
      "cell_type": "code",
      "metadata": {
        "id": "sI7AofMHLapw",
        "outputId": "a8a501d1-1b72-4e46-ceb0-5d8916338903",
        "colab": {
          "base_uri": "https://localhost:8080/"
        }
      },
      "source": [
        "gene_group_list = []\n",
        "gene_group_missing_list = []\n",
        "\n",
        "for name,group_file in groups_list:\n",
        "    print(name)\n",
        "    group_genes = pd.read_csv(group_file, header = None)\n",
        "    group_genes = list(group_genes[0])\n",
        "    \n",
        "    group_genes_cols = [gene for gene in group_genes if gene in column_names]\n",
        "    group_genes_missing = [gene for gene in group_genes if gene not in column_names]\n",
        "\n",
        "    gene_group_list.append((name,group_genes_cols))\n",
        "    gene_group_missing_list.append((name,group_genes_missing))"
      ],
      "execution_count": 14,
      "outputs": [
        {
          "output_type": "stream",
          "text": [
            "basal\n",
            "classifical\n"
          ],
          "name": "stdout"
        }
      ]
    },
    {
      "cell_type": "code",
      "metadata": {
        "id": "8RN1vMA9Rvtb",
        "outputId": "1e6ca8c8-769f-4ce8-c846-6a322fe384df",
        "colab": {
          "base_uri": "https://localhost:8080/"
        }
      },
      "source": [
        "len(skip_rows)"
      ],
      "execution_count": 15,
      "outputs": [
        {
          "output_type": "execute_result",
          "data": {
            "text/plain": [
              "44214"
            ]
          },
          "metadata": {
            "tags": []
          },
          "execution_count": 15
        }
      ]
    },
    {
      "cell_type": "code",
      "metadata": {
        "id": "dzgQtrhzLap5"
      },
      "source": [
        "def get_background(row):\n",
        "    mean_list = []\n",
        "    n_cols = len(row)    \n",
        "    for i in range(25):\n",
        "        col_rand = random.sample(range(0, n_cols), 50)\n",
        "        row_rand = row.iloc[col_rand]\n",
        "        mean_list.append(np.nanmean(row_rand))\n",
        "        \n",
        "    return np.nanmean(mean_list)"
      ],
      "execution_count": 16,
      "outputs": []
    },
    {
      "cell_type": "code",
      "metadata": {
        "id": "wcezeNb8Lap9",
        "outputId": "f89e7988-f57c-405c-c2c8-937e520af5c7",
        "colab": {
          "base_uri": "https://localhost:8080/"
        }
      },
      "source": [
        "chunksize = 3000\n",
        "background_list = []\n",
        "start = time.time()\n",
        "for idx, chunk in enumerate(pd.read_csv('data/X.csv',names = column_names, chunksize=chunksize)):\n",
        "    background_list.append(chunk.apply(get_background,axis = 1))\n",
        "    print('completed with {} at {:.2f}'.format(idx,time.time()-start))\n"
      ],
      "execution_count": null,
      "outputs": [
        {
          "output_type": "stream",
          "text": [
            "completed with 0 at 78.50\n",
            "completed with 1 at 159.66\n",
            "completed with 2 at 240.47\n",
            "completed with 3 at 321.91\n",
            "completed with 4 at 402.63\n",
            "completed with 5 at 483.91\n",
            "completed with 6 at 564.20\n",
            "completed with 7 at 646.20\n"
          ],
          "name": "stdout"
        }
      ]
    },
    {
      "cell_type": "code",
      "metadata": {
        "id": "oP02uvTrYBRs"
      },
      "source": [
        ""
      ],
      "execution_count": null,
      "outputs": []
    }
  ]
}