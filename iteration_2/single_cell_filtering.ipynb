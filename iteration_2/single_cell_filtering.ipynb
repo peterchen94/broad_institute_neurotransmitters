{
 "cells": [
  {
   "cell_type": "markdown",
   "metadata": {},
   "source": [
    "As you know, the goal of this project has basically been to take a large group of genes at the beginning and then to continually whittle them down via a set of criteria or screens. At one of our steps, we used a filter step at the patient level but we want to be more inclusive and include an 'OR' statement that also accounts for single-cell expression.\n",
    "\n",
    "So here is how this would be done:\n",
    "1. Take the genes that are present in 'COMPARTMENTS >=4  UPDATED GENE NAMES.csv' which can be found here: https://drive.google.com/drive/folders/1RxLl65T5mD7P9jL584zareH6gUBs3t_B . Then, using these genes, ask if they have non-zero expression in at least (>=) 10% of naive tumor cells OR naive atypical ductal cells OR treated tumor cells OR treated atypical ductal cells. \n",
    "2. Once you have the whittled down list from #1, compare that to the genes found in the attached file, (120520) Post >=4 Surface and TCGA >25 FPKM.csv.\n",
    "3. Take the SUPERSET of the genes found in #1 and #2 (so any gene that is in either #1 or #2), and then remove the duplicates, and send this gene list over to me."
   ]
  },
  {
   "cell_type": "code",
   "execution_count": 1,
   "metadata": {},
   "outputs": [],
   "source": [
    "import pandas as pd\n",
    "import numpy as np"
   ]
  },
  {
   "cell_type": "markdown",
   "metadata": {},
   "source": [
    "### read in columns and rows for single cell"
   ]
  },
  {
   "cell_type": "code",
   "execution_count": 2,
   "metadata": {},
   "outputs": [],
   "source": [
    "columns_naive = pd.read_csv('../data/columns for X.csv',header = None)\n",
    "columns_naive = list(columns_naive[0])\n",
    "\n",
    "rows_naive = pd.read_csv('../data/rows for X.csv',header = None)\n",
    "cell_type_naive = list(rows_naive[0])\n",
    "cell_type_naive = [val.lower() for val in cell_type_naive]"
   ]
  },
  {
   "cell_type": "code",
   "execution_count": 3,
   "metadata": {},
   "outputs": [],
   "source": [
    "rows_treated = pd.read_csv('../data/treated snRNA cell types list.csv',header = None)\n",
    "cell_type_treated = list(rows_treated[0])\n",
    "cell_type_treated = [val.lower() for val in cell_type_treated]\n",
    "\n",
    "columns_treated = pd.read_csv('../data/treated snRNA gene list.csv', header = None)\n",
    "columns_treated = list(columns_treated[0])"
   ]
  },
  {
   "cell_type": "markdown",
   "metadata": {},
   "source": [
    "## read in gene names"
   ]
  },
  {
   "cell_type": "code",
   "execution_count": 4,
   "metadata": {},
   "outputs": [
    {
     "data": {
      "text/plain": [
       "['CFTR',\n",
       " 'RALA',\n",
       " 'CACNG3',\n",
       " 'SKAP2',\n",
       " 'CEACAM7',\n",
       " 'ITGA3',\n",
       " 'CD4',\n",
       " 'TSPAN9',\n",
       " 'GPRC5A',\n",
       " 'PSD']"
      ]
     },
     "execution_count": 4,
     "metadata": {},
     "output_type": "execute_result"
    }
   ],
   "source": [
    "gene_list = pd.read_csv('../data/COMPARTMENTS _=4 UDPATED GENE NAMES.csv', header = None)\n",
    "gene_list = list(gene_list[0])\n",
    "gene_list[0:10]"
   ]
  },
  {
   "cell_type": "code",
   "execution_count": 5,
   "metadata": {},
   "outputs": [
    {
     "data": {
      "text/plain": [
       "88031"
      ]
     },
     "execution_count": 5,
     "metadata": {},
     "output_type": "execute_result"
    }
   ],
   "source": [
    "len(cell_type_naive)"
   ]
  },
  {
   "cell_type": "code",
   "execution_count": 6,
   "metadata": {},
   "outputs": [
    {
     "data": {
      "text/plain": [
       "array(['2591_t', 'acinar', 'alpha', 'atypical_ductal', 'b', 'beta',\n",
       "       'cd4pos_t', 'cd4pos_tregs', 'cd8pos_t', 'cdc1', 'cdc2',\n",
       "       'dc_activated', 'delta', 'ductal', 'endothelial', 'fibroblast',\n",
       "       'gamma', 'macrophages_monocytes', 'mast', 'nascentendothelial',\n",
       "       'nk', 'pdc', 'plasma', 'schwann', 'smoothmuscle', 'tumor'],\n",
       "      dtype='<U21')"
      ]
     },
     "execution_count": 6,
     "metadata": {},
     "output_type": "execute_result"
    }
   ],
   "source": [
    "np.unique(cell_type_naive)"
   ]
  },
  {
   "cell_type": "code",
   "execution_count": 8,
   "metadata": {},
   "outputs": [],
   "source": [
    "naive_gene_col_list = [idx for idx, col in enumerate(columns_naive) if col in gene_list]"
   ]
  },
  {
   "cell_type": "code",
   "execution_count": 10,
   "metadata": {},
   "outputs": [
    {
     "data": {
      "text/plain": [
       "4425"
      ]
     },
     "execution_count": 10,
     "metadata": {},
     "output_type": "execute_result"
    }
   ],
   "source": [
    "len(naive_gene_col_list)"
   ]
  },
  {
   "cell_type": "markdown",
   "metadata": {},
   "source": [
    "## Naive Analysis"
   ]
  },
  {
   "cell_type": "code",
   "execution_count": null,
   "metadata": {},
   "outputs": [],
   "source": [
    "%%time \n",
    "\n",
    "skiprows_naive_tumor = [idx for (idx, row) in enumerate(cell_type_naive) if row != 'tumor']\n",
    "skiprows_naive_atypical_ductal = [idx for (idx, row) in enumerate(cell_type_naive) if row != 'atypical_ductal']\n",
    "\n",
    "df_naive_tumor = pd.read_csv('../data/X.csv', \n",
    "                             names = columns_naive, \n",
    "                             usecols = naive_gene_col_list, \n",
    "                             skiprows = skiprows_naive_tumor, \n",
    "                             engine='c',\n",
    "                             na_filter=False, \n",
    "                             dtype=np.float64,\n",
    "                             low_memory=False)    \n"
   ]
  },
  {
   "cell_type": "code",
   "execution_count": null,
   "metadata": {},
   "outputs": [],
   "source": [
    "df_naive_atypical = pd.read_csv('../data/X.csv', \n",
    "                                names = columns_naive, \n",
    "                                usecols = lambda x: x in gene_list, \n",
    "                                skiprows = skiprows_naive_atypical_ductal, \n",
    "                                na_filter=False, \n",
    "                                dtype=np.float64)"
   ]
  },
  {
   "cell_type": "code",
   "execution_count": null,
   "metadata": {},
   "outputs": [],
   "source": [
    "df_naive_tumor.head()"
   ]
  },
  {
   "cell_type": "code",
   "execution_count": null,
   "metadata": {},
   "outputs": [],
   "source": [
    "2+2"
   ]
  },
  {
   "cell_type": "code",
   "execution_count": null,
   "metadata": {},
   "outputs": [],
   "source": [
    "2+2"
   ]
  },
  {
   "cell_type": "code",
   "execution_count": null,
   "metadata": {},
   "outputs": [],
   "source": []
  }
 ],
 "metadata": {
  "kernelspec": {
   "display_name": "Python 3",
   "language": "python",
   "name": "python3"
  },
  "language_info": {
   "codemirror_mode": {
    "name": "ipython",
    "version": 3
   },
   "file_extension": ".py",
   "mimetype": "text/x-python",
   "name": "python",
   "nbconvert_exporter": "python",
   "pygments_lexer": "ipython3",
   "version": "3.6.7"
  }
 },
 "nbformat": 4,
 "nbformat_minor": 2
}
