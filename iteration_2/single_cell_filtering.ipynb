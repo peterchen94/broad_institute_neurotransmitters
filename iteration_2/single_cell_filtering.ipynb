{
 "cells": [
  {
   "cell_type": "markdown",
   "metadata": {},
   "source": [
    "As you know, the goal of this project has basically been to take a large group of genes at the beginning and then to continually whittle them down via a set of criteria or screens. At one of our steps, we used a filter step at the patient level but we want to be more inclusive and include an 'OR' statement that also accounts for single-cell expression.\n",
    "\n",
    "So here is how this would be done:\n",
    "1. Take the genes that are present in 'COMPARTMENTS >=4  UPDATED GENE NAMES.csv' which can be found here: https://drive.google.com/drive/folders/1RxLl65T5mD7P9jL584zareH6gUBs3t_B . Then, using these genes, ask if they have non-zero expression in at least (>=) 10% of naive tumor cells OR naive atypical ductal cells OR treated tumor cells OR treated atypical ductal cells. \n",
    "2. Once you have the whittled down list from #1, compare that to the genes found in the attached file, (120520) Post >=4 Surface and TCGA >25 FPKM.csv.\n",
    "3. Take the SUPERSET of the genes found in #1 and #2 (so any gene that is in either #1 or #2), and then remove the duplicates, and send this gene list over to me."
   ]
  },
  {
   "cell_type": "code",
   "execution_count": 1,
   "metadata": {},
   "outputs": [],
   "source": [
    "import pandas as pd\n",
    "import numpy as np"
   ]
  },
  {
   "cell_type": "markdown",
   "metadata": {},
   "source": [
    "### read in columns and rows for single cell"
   ]
  },
  {
   "cell_type": "code",
   "execution_count": 2,
   "metadata": {},
   "outputs": [],
   "source": [
    "columns_naive = pd.read_csv('../data/columns for X.csv',header = None)\n",
    "columns_naive = list(columns_naive[0])\n",
    "\n",
    "rows_naive = pd.read_csv('../data/rows for X.csv',header = None)\n",
    "cell_type_naive = list(rows_naive[0])\n",
    "cell_type_naive = [val.lower() for val in cell_type_naive]"
   ]
  },
  {
   "cell_type": "code",
   "execution_count": 3,
   "metadata": {},
   "outputs": [],
   "source": [
    "rows_treated = pd.read_csv('../data/treated snRNA cell types list.csv',header = None)\n",
    "cell_type_treated = list(rows_treated[0])\n",
    "cell_type_treated = [val.lower() for val in cell_type_treated]\n",
    "\n",
    "columns_treated = pd.read_csv('../data/treated snRNA gene list.csv', header = None)\n",
    "columns_treated = list(columns_treated[0])"
   ]
  },
  {
   "cell_type": "markdown",
   "metadata": {},
   "source": [
    "## read in gene names"
   ]
  },
  {
   "cell_type": "code",
   "execution_count": 4,
   "metadata": {},
   "outputs": [
    {
     "data": {
      "text/plain": [
       "['CFTR',\n",
       " 'RALA',\n",
       " 'CACNG3',\n",
       " 'SKAP2',\n",
       " 'CEACAM7',\n",
       " 'ITGA3',\n",
       " 'CD4',\n",
       " 'TSPAN9',\n",
       " 'GPRC5A',\n",
       " 'PSD']"
      ]
     },
     "execution_count": 4,
     "metadata": {},
     "output_type": "execute_result"
    }
   ],
   "source": [
    "gene_list = pd.read_csv('../data/COMPARTMENTS _=4 UDPATED GENE NAMES.csv', header = None)\n",
    "gene_list = list(gene_list[0])\n",
    "gene_list[0:10]"
   ]
  },
  {
   "cell_type": "markdown",
   "metadata": {},
   "source": [
    "## Naive Analysis"
   ]
  },
  {
   "cell_type": "code",
   "execution_count": 24,
   "metadata": {},
   "outputs": [],
   "source": [
    "def get_not_null_cols(df, thresh = .9):\n",
    "\n",
    "    df = df.replace(0,np.nan)\n",
    "    df_null_ratio = pd.DataFrame(df.isna().sum()/df.shape[0],columns = ['null_ratio'])\n",
    "\n",
    "    sublist = list(df_null_ratio[df_null_ratio['null_ratio'] < .9].index)\n",
    "    \n",
    "    return sublist"
   ]
  },
  {
   "cell_type": "code",
   "execution_count": 30,
   "metadata": {},
   "outputs": [],
   "source": [
    "import pickle\n",
    "import time"
   ]
  },
  {
   "cell_type": "code",
   "execution_count": 28,
   "metadata": {},
   "outputs": [],
   "source": [
    "naive_gene_col_list = [idx for idx, col in enumerate(columns_naive) if col in gene_list]"
   ]
  },
  {
   "cell_type": "code",
   "execution_count": 33,
   "metadata": {},
   "outputs": [
    {
     "name": "stdout",
     "output_type": "stream",
     "text": [
      "done with 250 at 137.40\n",
      "done with 500 at 230.80\n",
      "done with 750 at 311.75\n",
      "done with 1000 at 391.04\n",
      "done with 1250 at 470.67\n",
      "done with 1500 at 551.18\n",
      "done with 1750 at 632.42\n",
      "done with 2000 at 713.91\n",
      "done with 2250 at 795.78\n",
      "done with 2500 at 877.61\n",
      "done with 2750 at 959.75\n",
      "done with 3000 at 1042.33\n",
      "done with 3250 at 1125.65\n",
      "done with 3500 at 1209.83\n",
      "done with 3750 at 1294.47\n",
      "done with 4000 at 1379.24\n",
      "done with 4250 at 1469.96\n",
      "done with 4500 at 1562.20\n"
     ]
    }
   ],
   "source": [
    "naive_gene_list = []\n",
    "\n",
    "start = time.time()\n",
    "\n",
    "for i in range(0, len(naive_gene_col_list), 250):\n",
    "    short_gene_list = naive_gene_col_list[i:i + 250]\n",
    "    df_naive = pd.read_csv('../data/X.csv', \n",
    "                             names = columns_naive, \n",
    "                             usecols = short_gene_list)\n",
    "    df_naive['cell_type'] = cell_type_naive\n",
    "    df_naive_tumor = df_naive[df_naive['cell_type']=='tumor']\n",
    "    df_naive_atypical = df_naive[df_naive['cell_type'] == 'atypical_ductal']\n",
    "    \n",
    "    sublist_tumor = get_not_null_cols(df_naive_tumor,thresh = .9)\n",
    "    sublist_atypical = get_not_null_cols(df_naive_atypical,thresh = .9)\n",
    "    \n",
    "    naive_gene_list.append(sublist_tumor)\n",
    "    naive_gene_list.append(sublist_atypical)\n",
    "    \n",
    "    print('done with {} at {:.2f}'.format(i+250, time.time()-start))\n",
    "\n",
    "with open('outputs/naive_gene_list_compartments_filtered.pkl', 'wb') as f:\n",
    "    pickle.dump(naive_gene_list, f)"
   ]
  },
  {
   "cell_type": "markdown",
   "metadata": {},
   "source": [
    "## Treated"
   ]
  },
  {
   "cell_type": "code",
   "execution_count": 36,
   "metadata": {},
   "outputs": [],
   "source": [
    "treated_gene_col_list = [idx for idx, col in enumerate(columns_treated) if col in gene_list]"
   ]
  },
  {
   "cell_type": "code",
   "execution_count": 38,
   "metadata": {},
   "outputs": [
    {
     "name": "stdout",
     "output_type": "stream",
     "text": [
      "done with 250 at 45.22\n",
      "done with 500 at 89.80\n",
      "done with 750 at 134.84\n",
      "done with 1000 at 179.95\n",
      "done with 1250 at 225.32\n",
      "done with 1500 at 270.58\n",
      "done with 1750 at 320.82\n",
      "done with 2000 at 367.24\n",
      "done with 2250 at 413.60\n",
      "done with 2500 at 461.70\n",
      "done with 2750 at 508.05\n",
      "done with 3000 at 555.38\n",
      "done with 3250 at 602.54\n",
      "done with 3500 at 653.04\n",
      "done with 3750 at 701.03\n",
      "done with 4000 at 748.68\n",
      "done with 4250 at 797.13\n",
      "done with 4500 at 845.51\n"
     ]
    }
   ],
   "source": [
    "treated_gene_list = []\n",
    "start = time.time()\n",
    "\n",
    "for i in range(0, len(treated_gene_col_list), 250):\n",
    "    short_gene_list = treated_gene_col_list[i:i + 250]\n",
    "    df_treated = pd.read_csv('../data/X treated.csv', \n",
    "                             names = columns_treated, \n",
    "                             usecols = short_gene_list)\n",
    "    \n",
    "    df_treated['cell_type'] = cell_type_treated\n",
    "\n",
    "    df_treated_tumor = df_treated[df_treated['cell_type']=='tumor']\n",
    "    df_treated_atypical = df_treated[df_treated['cell_type'] == 'atypical_ductal']\n",
    "    \n",
    "    sublist_tumor = get_not_null_cols(df_treated_tumor,thresh = .9)\n",
    "    sublist_atypical = get_not_null_cols(df_treated_atypical,thresh = .9)\n",
    "    \n",
    "    treated_gene_list.append(sublist_tumor)\n",
    "    treated_gene_list.append(sublist_atypical)\n",
    "    \n",
    "    print('done with {} at {:.2f}'.format(i+250, time.time()-start))\n",
    "\n",
    "with open('outputs/treated_gene_list_compartments_filtered.pkl', 'wb') as f:\n",
    "    pickle.dump(treated_gene_list, f)"
   ]
  },
  {
   "cell_type": "code",
   "execution_count": 55,
   "metadata": {},
   "outputs": [],
   "source": [
    "import itertools\n",
    "\n",
    "set_treated = set(itertools.chain.from_iterable(treated_gene_list))\n",
    "set_naive = set(itertools.chain.from_iterable(naive_gene_list))"
   ]
  },
  {
   "cell_type": "code",
   "execution_count": 56,
   "metadata": {},
   "outputs": [],
   "source": [
    "set_total = set_treated.union(set_naive)"
   ]
  },
  {
   "cell_type": "code",
   "execution_count": null,
   "metadata": {},
   "outputs": [],
   "source": []
  },
  {
   "cell_type": "code",
   "execution_count": 61,
   "metadata": {},
   "outputs": [],
   "source": [
    "original_set = pd.read_csv('../data/(120520) Post _=4 SURFACE and TCGA _25 FPKM.csv',header = None)"
   ]
  },
  {
   "cell_type": "code",
   "execution_count": 62,
   "metadata": {},
   "outputs": [],
   "source": [
    "original_set = set(original_set[0])"
   ]
  },
  {
   "cell_type": "code",
   "execution_count": 64,
   "metadata": {},
   "outputs": [],
   "source": [
    "final_list = list(original_set.union(set_total))"
   ]
  },
  {
   "cell_type": "code",
   "execution_count": 70,
   "metadata": {},
   "outputs": [],
   "source": [
    "df_output = pd.DataFrame(final_list, columns = ['genes'])\n",
    "df_output.to_csv('outputs/gene_list_superset.csv',index = False)"
   ]
  },
  {
   "cell_type": "code",
   "execution_count": null,
   "metadata": {},
   "outputs": [],
   "source": []
  },
  {
   "cell_type": "code",
   "execution_count": 71,
   "metadata": {},
   "outputs": [],
   "source": [
    "new_gene_list = [gene for gene in final_list if gene not in original_set]"
   ]
  },
  {
   "cell_type": "code",
   "execution_count": 72,
   "metadata": {},
   "outputs": [
    {
     "data": {
      "text/plain": [
       "66"
      ]
     },
     "execution_count": 72,
     "metadata": {},
     "output_type": "execute_result"
    }
   ],
   "source": [
    "len(new_gene_list)"
   ]
  },
  {
   "cell_type": "code",
   "execution_count": null,
   "metadata": {},
   "outputs": [],
   "source": []
  }
 ],
 "metadata": {
  "kernelspec": {
   "display_name": "Python 3",
   "language": "python",
   "name": "python3"
  },
  "language_info": {
   "codemirror_mode": {
    "name": "ipython",
    "version": 3
   },
   "file_extension": ".py",
   "mimetype": "text/x-python",
   "name": "python",
   "nbconvert_exporter": "python",
   "pygments_lexer": "ipython3",
   "version": "3.6.7"
  }
 },
 "nbformat": 4,
 "nbformat_minor": 2
}
