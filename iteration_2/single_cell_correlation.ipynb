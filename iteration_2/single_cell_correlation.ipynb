{
 "cells": [
  {
   "cell_type": "code",
   "execution_count": 1,
   "metadata": {},
   "outputs": [],
   "source": [
    "import pandas as pd\n",
    "import random\n",
    "import itertools\n",
    "import numpy as np\n",
    "import time \n",
    "import pickle\n",
    "from scipy.stats import ttest_ind, chi2_contingency, fisher_exact, ranksums\n",
    "from scipy.stats import pearsonr, spearmanr\n",
    "import seaborn as sns\n",
    "import matplotlib.pyplot as plt\n",
    "import os"
   ]
  },
  {
   "cell_type": "code",
   "execution_count": 2,
   "metadata": {},
   "outputs": [],
   "source": [
    "column_names = pd.read_csv('../data/columns for X.csv',header = None)\n",
    "column_names = list(column_names[0])\n",
    "\n",
    "rows = pd.read_csv('../data/rows for X.csv',header = None)\n",
    "cell_type = list(rows[0])\n",
    "cell_type = [val.lower() for val in cell_type]\n",
    "\n",
    "gene_list_hm = pd.read_csv('../data/110920_new drug list v1.csv', header = None)\n",
    "gene_list_hm = list(gene_list_hm[0])"
   ]
  },
  {
   "cell_type": "code",
   "execution_count": 8,
   "metadata": {},
   "outputs": [],
   "source": [
    "df_hm = pd.read_csv('../data/X.csv',names = column_names, usecols = gene_list_hm)\n",
    "df_hm['cell_type'] = cell_type"
   ]
  },
  {
   "cell_type": "code",
   "execution_count": 10,
   "metadata": {},
   "outputs": [
    {
     "data": {
      "text/plain": [
       "Index(['ATAD3B', 'PRKCZ', 'UBR4', 'SLC9A1', 'MACF1', 'EPS15', 'NRAS', 'NOTCH2',\n",
       "       'FCGR2A', 'SLC45A3',\n",
       "       ...\n",
       "       'SLC27A1', 'LPAR2', 'PLAUR', 'CYTH2', 'PTPRH', 'PI4KA', 'MAPK1', 'MIF',\n",
       "       'BACE2', 'cell_type'],\n",
       "      dtype='object', length=126)"
      ]
     },
     "execution_count": 10,
     "metadata": {},
     "output_type": "execute_result"
    }
   ],
   "source": [
    "df_hm.columns"
   ]
  },
  {
   "cell_type": "markdown",
   "metadata": {},
   "source": [
    "### mean heatmap"
   ]
  },
  {
   "cell_type": "code",
   "execution_count": null,
   "metadata": {},
   "outputs": [],
   "source": [
    "df_hm_mean = df_hm.groupby('cell_type').mean()\n",
    "\n",
    "plt.figure(figsize = (20,14))\n",
    "sns.heatmap(df_hm_mean,linewidth = .1, cmap=\"viridis\")\n",
    "plt.title('heatmap for single cell expression - include zeros')\n",
    "plt.savefig('outputs/single_cell_heatmaps/novel_gene_heatmap_with_zeros.png')"
   ]
  },
  {
   "cell_type": "markdown",
   "metadata": {},
   "source": [
    "# Correlation Study"
   ]
  },
  {
   "cell_type": "code",
   "execution_count": 4,
   "metadata": {},
   "outputs": [],
   "source": [
    "subset = 'fda'\n",
    "pvalue_file = 'tumor_ductal_statistical_testing_fda_v1.csv'\n",
    "\n",
    "df_pvalues = pd.read_csv(os.path.join('outputs',pvalue_file))\n",
    "gene_list = list(df_pvalues[df_pvalues['ttest_pvalue'] < .05]['gene'])"
   ]
  },
  {
   "cell_type": "code",
   "execution_count": 5,
   "metadata": {},
   "outputs": [],
   "source": [
    "column_names = pd.read_csv('../data/columns for X.csv',header = None)\n",
    "column_names = list(column_names[0])\n",
    "\n",
    "rows = pd.read_csv('../data/rows for X.csv',header = None)\n",
    "cell_type = list(rows[0])\n",
    "cell_type = [val.lower() for val in cell_type]"
   ]
  },
  {
   "cell_type": "code",
   "execution_count": 22,
   "metadata": {},
   "outputs": [
    {
     "name": "stderr",
     "output_type": "stream",
     "text": [
      "/Users/PeterC/anaconda3/lib/python3.6/site-packages/pandas/core/frame.py:3798: SettingWithCopyWarning: \n",
      "A value is trying to be set on a copy of a slice from a DataFrame\n",
      "\n",
      "See the caveats in the documentation: http://pandas.pydata.org/pandas-docs/stable/indexing.html#indexing-view-versus-copy\n",
      "  method=method)\n"
     ]
    },
    {
     "data": {
      "text/plain": [
       "(42323, 27)"
      ]
     },
     "execution_count": 22,
     "metadata": {},
     "output_type": "execute_result"
    }
   ],
   "source": [
    "df = pd.read_csv('../data/X.csv',names = column_names, usecols = gene_list)\n",
    "df = df[gene_list]\n",
    "df['cell_type'] = cell_type\n",
    "df_tumor = df[df['cell_type'] == 'tumor']\n",
    "df_tumor.shape\n",
    "df_tumor.replace(0,np.nan, inplace = True)\n",
    "df_tumor_dropna = df_tumor.dropna(how = 'all', subset = gene_list)\n",
    "df_tumor_dropna.shape"
   ]
  },
  {
   "cell_type": "code",
   "execution_count": 23,
   "metadata": {},
   "outputs": [],
   "source": [
    "index_dict = {}\n",
    "for gene in gene_list:\n",
    "    index_dict[gene] = list(df_tumor[~df_tumor[gene].isna()].index)"
   ]
  },
  {
   "cell_type": "code",
   "execution_count": 26,
   "metadata": {},
   "outputs": [],
   "source": [
    "pickle.dump(index_dict, open(\"outputs/{}_correlation_gene_index_dict.pkl\".format(subset), \"wb\"))  # save it into a file named save.p"
   ]
  },
  {
   "cell_type": "code",
   "execution_count": 7,
   "metadata": {},
   "outputs": [],
   "source": [
    "with open(\"outputs/{}_correlation_gene_index_dict.pkl\".format(subset), \"rb\") as f:\n",
    "    index_dict = pickle.load(f)"
   ]
  },
  {
   "cell_type": "code",
   "execution_count": 8,
   "metadata": {},
   "outputs": [
    {
     "name": "stdout",
     "output_type": "stream",
     "text": [
      "start with EPHB4\n",
      "data read - shape = (6392, 13562)\n",
      "done with EPHB4 at 387.919\n",
      "start with EPHA2\n",
      "data read - shape = (14581, 14728)\n",
      "done with EPHA2 at 1040.041\n",
      "start with SCNN1A\n",
      "data read - shape = (19721, 15102)\n",
      "done with SCNN1A at 1832.591\n",
      "start with SRC\n",
      "data read - shape = (9799, 14193)\n",
      "done with SRC at 2298.029\n",
      "start with CD52\n",
      "data read - shape = (300, 3092)\n",
      "done with CD52 at 2358.096\n",
      "start with TNK2\n",
      "data read - shape = (9696, 14126)\n",
      "done with TNK2 at 2833.343\n",
      "start with CXCR4\n",
      "data read - shape = (815, 6589)\n",
      "done with CXCR4 at 2947.763\n",
      "start with PDGFRA\n",
      "data read - shape = (482, 4300)\n",
      "done with PDGFRA at 3028.582\n",
      "start with KCNN4\n",
      "data read - shape = (10511, 14239)\n",
      "done with KCNN4 at 3580.480\n",
      "start with MAP2K2\n",
      "data read - shape = (8111, 13905)\n",
      "done with MAP2K2 at 4053.838\n",
      "start with ERBB3\n",
      "data read - shape = (10121, 14199)\n",
      "done with ERBB3 at 4496.237\n",
      "start with ERBB2\n",
      "data read - shape = (12411, 14534)\n",
      "done with ERBB2 at 5163.385\n",
      "start with MET\n",
      "data read - shape = (25820, 15438)\n",
      "done with MET at 6205.293\n",
      "start with DDR1\n",
      "data read - shape = (7241, 13758)\n",
      "done with DDR1 at 6595.704\n",
      "start with GABRP\n",
      "data read - shape = (12570, 14081)\n",
      "done with GABRP at 7159.447\n",
      "start with ACE\n",
      "data read - shape = (785, 7859)\n",
      "done with ACE at 7256.374\n",
      "start with IL2RG\n",
      "data read - shape = (57, 0)\n",
      "done with IL2RG at 7305.089\n",
      "start with ATP1B3\n",
      "data read - shape = (10036, 14212)\n",
      "done with ATP1B3 at 7766.501\n",
      "start with MAP2K1\n",
      "data read - shape = (11895, 14526)\n",
      "done with MAP2K1 at 8375.418\n",
      "start with EEF2\n",
      "data read - shape = (11191, 14301)\n",
      "done with EEF2 at 8940.942\n",
      "start with TACSTD2\n",
      "data read - shape = (6864, 13661)\n",
      "done with TACSTD2 at 9278.309\n",
      "start with DPYSL2\n",
      "data read - shape = (11825, 14369)\n",
      "done with DPYSL2 at 9815.404\n",
      "start with HDAC3\n",
      "data read - shape = (4617, 12982)\n",
      "done with HDAC3 at 10081.692\n",
      "start with FKBP1A\n",
      "data read - shape = (13, 0)\n",
      "done with FKBP1A at 10126.882\n",
      "start with TGFB1\n",
      "data read - shape = (7126, 13688)\n",
      "done with TGFB1 at 10488.369\n",
      "start with PTK6\n",
      "data read - shape = (11367, 14366)\n",
      "done with PTK6 at 10966.105\n"
     ]
    }
   ],
   "source": [
    "start = time.time()\n",
    "\n",
    "for gene in gene_list:\n",
    "    \n",
    "    print('start with {}'.format(gene))\n",
    "    skiprows = [i for i in np.arange(88031) if i not in index_dict[gene]]\n",
    "    df_g = pd.read_csv('../data/X.csv',names = column_names, skiprows = skiprows)\n",
    "    df_g.replace(0,np.nan, inplace = True)\n",
    "    df_g.dropna(axis = 1, thresh = 100, inplace = True)\n",
    "    \n",
    "    print('data read - shape = {}'.format(df_g.shape))\n",
    "    gene_col_list = []\n",
    "    r_pearson_list = []\n",
    "    r_spearman_list = []\n",
    "    p_pearson_list = []\n",
    "    p_spearman_list = []\n",
    "    n_rows_list = []\n",
    "\n",
    "    for col in df_g.columns:\n",
    "        filename = '{}_correlation.csv'.format(gene)\n",
    "        if col not in gene:\n",
    "            df_subset = df_g[[gene,col]]\n",
    "            df_subset_filtered = df_subset[~df_subset[col].isna()]\n",
    "            r_pearson, p_pearson = pearsonr(df_subset_filtered[gene], df_subset_filtered[col])\n",
    "            r_spearman, p_spearman = spearmanr(df_subset_filtered[gene], df_subset_filtered[col])\n",
    "\n",
    "            n_rows = df_subset_filtered.shape[0]\n",
    "            gene_col_list.append(col)\n",
    "            r_pearson_list.append(r_pearson)\n",
    "            p_pearson_list.append(p_pearson)\n",
    "\n",
    "            r_spearman_list.append(r_spearman)\n",
    "            p_spearman_list.append(p_spearman)        \n",
    "\n",
    "            n_rows_list.append(n_rows)\n",
    "            \n",
    "    df_gene_corr = pd.DataFrame({'gene':gene_col_list,\n",
    "                                 'r_pearson':np.round(r_pearson_list,5),\n",
    "                                 'p_pearson':p_pearson_list,\n",
    "                                 'r_spearman':np.round(r_spearman_list,5),\n",
    "                                 'p_spearman':p_spearman_list,\n",
    "                                 'n_rows_nonzero' : n_rows_list\n",
    "                                })\n",
    "    df_gene_corr.sort_values(by= 'r_pearson', ascending = False, inplace = True)\n",
    "    df_gene_corr.to_csv('outputs/single_cell_correlation/{}/{}'.format(subset,filename),index = False)\n",
    "    \n",
    "    print('done with {} at {:.3f}'.format(gene, time.time()- start))"
   ]
  },
  {
   "cell_type": "code",
   "execution_count": 9,
   "metadata": {},
   "outputs": [
    {
     "data": {
      "text/plain": [
       "4"
      ]
     },
     "execution_count": 9,
     "metadata": {},
     "output_type": "execute_result"
    }
   ],
   "source": [
    "2+2"
   ]
  },
  {
   "cell_type": "code",
   "execution_count": null,
   "metadata": {},
   "outputs": [],
   "source": []
  }
 ],
 "metadata": {
  "kernelspec": {
   "display_name": "Python 3",
   "language": "python",
   "name": "python3"
  },
  "language_info": {
   "codemirror_mode": {
    "name": "ipython",
    "version": 3
   },
   "file_extension": ".py",
   "mimetype": "text/x-python",
   "name": "python",
   "nbconvert_exporter": "python",
   "pygments_lexer": "ipython3",
   "version": "3.6.7"
  }
 },
 "nbformat": 4,
 "nbformat_minor": 2
}
