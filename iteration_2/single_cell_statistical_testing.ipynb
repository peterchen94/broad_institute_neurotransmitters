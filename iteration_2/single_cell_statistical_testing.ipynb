{
 "cells": [
  {
   "cell_type": "code",
   "execution_count": 1,
   "metadata": {},
   "outputs": [],
   "source": [
    "import h5py\n",
    "import numpy as np\n",
    "import pandas as pd\n",
    "import matplotlib.pyplot as plt\n",
    "from scipy.stats import ttest_ind, chi2_contingency, fisher_exact"
   ]
  },
  {
   "cell_type": "code",
   "execution_count": 2,
   "metadata": {},
   "outputs": [],
   "source": [
    "from scipy.stats import ttest_ind\n",
    "def t_test(x,y,alternative='both-sided'):\n",
    "    _, double_p = ttest_ind(x,y,equal_var = False)\n",
    "    if alternative == 'both-sided':\n",
    "        pval = double_p\n",
    "    elif alternative == 'greater':\n",
    "        if np.mean(x) > np.mean(y):\n",
    "            pval = double_p/2.\n",
    "        else:\n",
    "            pval = 1.0 - double_p/2.\n",
    "    elif alternative == 'less':\n",
    "        if np.mean(x) < np.mean(y):\n",
    "            pval = double_p/2.\n",
    "        else:\n",
    "            pval = 1.0 - double_p/2.\n",
    "    return pval"
   ]
  },
  {
   "cell_type": "markdown",
   "metadata": {},
   "source": [
    "## Goal: Run statistical analysis for single cell data\n",
    "\n",
    "Steps\n",
    "\n",
    "1. read single cell data and only read in specific genes (columns) specified in external spreadsheet\n",
    "    * FDA gene list\n",
    "    * Novel gene list\n",
    "2. apply statistical tests on a column by column basis for all genes for tumor vs ductal cells\n",
    "\n",
    "    * chi sq test for counts of zeros\n",
    "    * t test for raw data (sample means) - one tail = tumor > ductal\n",
    "    * fisher exact test for count of zeros\n",
    "\n",
    "## Outputs\n",
    "    *tumor_ductal_statistical_testing_fda.csv\n",
    "    *tumor_ductal_statistical_testing_novel.csv\n"
   ]
  },
  {
   "cell_type": "markdown",
   "metadata": {},
   "source": [
    "### inputs"
   ]
  },
  {
   "cell_type": "code",
   "execution_count": 3,
   "metadata": {},
   "outputs": [],
   "source": [
    "gene_list_csv = '../data/Novel Target List Pre-GTEX.csv'\n",
    "gene_list_name = 'novel'"
   ]
  },
  {
   "cell_type": "code",
   "execution_count": 4,
   "metadata": {},
   "outputs": [],
   "source": [
    "rows = pd.read_csv('../data/rows for X.csv',header = None)\n",
    "\n",
    "row_index = list(rows[0])\n",
    "\n",
    "row_index = [val.lower() for val in row_index]\n",
    "\n",
    "headers = pd.read_csv('../data/columns for X.csv', header = None)\n",
    "\n",
    "genes_to_keep = pd.read_csv(gene_list_csv, header = None)\n",
    "\n",
    "genes_to_keep = list(genes_to_keep[0])\n",
    "\n",
    "column_names = list(headers[0])\n",
    "\n"
   ]
  },
  {
   "cell_type": "code",
   "execution_count": 7,
   "metadata": {},
   "outputs": [
    {
     "data": {
      "text/plain": [
       "(88031, 540)"
      ]
     },
     "execution_count": 7,
     "metadata": {},
     "output_type": "execute_result"
    }
   ],
   "source": [
    "df_raw = pd.read_csv('../data/X.csv',names = column_names, usecols=lambda c: c in set(genes_to_keep))\n",
    "\n",
    "df_raw.shape"
   ]
  },
  {
   "cell_type": "code",
   "execution_count": 16,
   "metadata": {},
   "outputs": [],
   "source": [
    "genes_to_keep = [gene for gene in genes_to_keep if gene in df_raw.columns]"
   ]
  },
  {
   "cell_type": "code",
   "execution_count": 8,
   "metadata": {},
   "outputs": [
    {
     "data": {
      "text/plain": [
       "Text(0.5, 1.0, 'percentage of 0s in columns - 153 subset of genes')"
      ]
     },
     "execution_count": 8,
     "metadata": {},
     "output_type": "execute_result"
    },
    {
     "data": {
      "image/png": "[encoded data removed]",
      "text/plain": [
       "<Figure size 432x288 with 1 Axes>"
      ]
     },
     "metadata": {
      "needs_background": "light"
     },
     "output_type": "display_data"
    }
   ],
   "source": [
    "plt.hist((df_raw == 0).sum()/df_raw.shape[0])\n",
    "plt.title('percentage of 0s in columns - 153 subset of genes')"
   ]
  },
  {
   "cell_type": "code",
   "execution_count": 9,
   "metadata": {},
   "outputs": [
    {
     "data": {
      "text/plain": [
       "(88031, 540)"
      ]
     },
     "execution_count": 9,
     "metadata": {},
     "output_type": "execute_result"
    }
   ],
   "source": [
    "df_raw.shape"
   ]
  },
  {
   "cell_type": "code",
   "execution_count": 10,
   "metadata": {},
   "outputs": [],
   "source": [
    "df_raw.index = row_index\n",
    "df_raw.reset_index(inplace=True)"
   ]
  },
  {
   "cell_type": "code",
   "execution_count": 11,
   "metadata": {},
   "outputs": [],
   "source": [
    "df_raw = df_raw.rename({'index':'row_id'}, axis = 1)"
   ]
  },
  {
   "cell_type": "code",
   "execution_count": 12,
   "metadata": {},
   "outputs": [
    {
     "data": {
      "text/html": [
       "<div>\n",
       "<style scoped>\n",
       "    .dataframe tbody tr th:only-of-type {\n",
       "        vertical-align: middle;\n",
       "    }\n",
       "\n",
       "    .dataframe tbody tr th {\n",
       "        vertical-align: top;\n",
       "    }\n",
       "\n",
       "    .dataframe thead th {\n",
       "        text-align: right;\n",
       "    }\n",
       "</style>\n",
       "<table border=\"1\" class=\"dataframe\">\n",
       "  <thead>\n",
       "    <tr style=\"text-align: right;\">\n",
       "      <th></th>\n",
       "      <th>row_id</th>\n",
       "      <th>AGRN</th>\n",
       "      <th>ICMT</th>\n",
       "      <th>SRM</th>\n",
       "      <th>DHRS3</th>\n",
       "      <th>ATP13A2</th>\n",
       "      <th>LYPLA2</th>\n",
       "      <th>PNRC2</th>\n",
       "      <th>UBXN11</th>\n",
       "      <th>CD52</th>\n",
       "      <th>...</th>\n",
       "      <th>TOM1</th>\n",
       "      <th>CARD10</th>\n",
       "      <th>CDC42EP1</th>\n",
       "      <th>TTC38</th>\n",
       "      <th>TRMU</th>\n",
       "      <th>NCAPH2</th>\n",
       "      <th>FAM3B</th>\n",
       "      <th>PFKL</th>\n",
       "      <th>MCM3AP</th>\n",
       "      <th>PRMT2</th>\n",
       "    </tr>\n",
       "  </thead>\n",
       "  <tbody>\n",
       "    <tr>\n",
       "      <th>0</th>\n",
       "      <td>tumor</td>\n",
       "      <td>0.0</td>\n",
       "      <td>0.0</td>\n",
       "      <td>0.0</td>\n",
       "      <td>0.0</td>\n",
       "      <td>0.0</td>\n",
       "      <td>0.0</td>\n",
       "      <td>0.0</td>\n",
       "      <td>0.0</td>\n",
       "      <td>0.00000</td>\n",
       "      <td>...</td>\n",
       "      <td>0.0</td>\n",
       "      <td>0.0</td>\n",
       "      <td>0.0</td>\n",
       "      <td>0.0</td>\n",
       "      <td>0.0</td>\n",
       "      <td>0.0</td>\n",
       "      <td>0.0</td>\n",
       "      <td>0.0</td>\n",
       "      <td>0.000000</td>\n",
       "      <td>0.0</td>\n",
       "    </tr>\n",
       "    <tr>\n",
       "      <th>1</th>\n",
       "      <td>tumor</td>\n",
       "      <td>0.0</td>\n",
       "      <td>0.0</td>\n",
       "      <td>0.0</td>\n",
       "      <td>0.0</td>\n",
       "      <td>0.0</td>\n",
       "      <td>0.0</td>\n",
       "      <td>0.0</td>\n",
       "      <td>0.0</td>\n",
       "      <td>0.00000</td>\n",
       "      <td>...</td>\n",
       "      <td>0.0</td>\n",
       "      <td>0.0</td>\n",
       "      <td>0.0</td>\n",
       "      <td>0.0</td>\n",
       "      <td>0.0</td>\n",
       "      <td>0.0</td>\n",
       "      <td>0.0</td>\n",
       "      <td>0.0</td>\n",
       "      <td>0.000000</td>\n",
       "      <td>0.0</td>\n",
       "    </tr>\n",
       "    <tr>\n",
       "      <th>2</th>\n",
       "      <td>fibroblast</td>\n",
       "      <td>0.0</td>\n",
       "      <td>0.0</td>\n",
       "      <td>0.0</td>\n",
       "      <td>0.0</td>\n",
       "      <td>0.0</td>\n",
       "      <td>0.0</td>\n",
       "      <td>0.0</td>\n",
       "      <td>0.0</td>\n",
       "      <td>2.18733</td>\n",
       "      <td>...</td>\n",
       "      <td>0.0</td>\n",
       "      <td>0.0</td>\n",
       "      <td>0.0</td>\n",
       "      <td>0.0</td>\n",
       "      <td>0.0</td>\n",
       "      <td>0.0</td>\n",
       "      <td>0.0</td>\n",
       "      <td>0.0</td>\n",
       "      <td>0.000000</td>\n",
       "      <td>0.0</td>\n",
       "    </tr>\n",
       "    <tr>\n",
       "      <th>3</th>\n",
       "      <td>tumor</td>\n",
       "      <td>0.0</td>\n",
       "      <td>0.0</td>\n",
       "      <td>0.0</td>\n",
       "      <td>0.0</td>\n",
       "      <td>0.0</td>\n",
       "      <td>0.0</td>\n",
       "      <td>0.0</td>\n",
       "      <td>0.0</td>\n",
       "      <td>0.00000</td>\n",
       "      <td>...</td>\n",
       "      <td>0.0</td>\n",
       "      <td>0.0</td>\n",
       "      <td>0.0</td>\n",
       "      <td>0.0</td>\n",
       "      <td>0.0</td>\n",
       "      <td>0.0</td>\n",
       "      <td>0.0</td>\n",
       "      <td>0.0</td>\n",
       "      <td>2.274803</td>\n",
       "      <td>0.0</td>\n",
       "    </tr>\n",
       "    <tr>\n",
       "      <th>4</th>\n",
       "      <td>endothelial</td>\n",
       "      <td>0.0</td>\n",
       "      <td>0.0</td>\n",
       "      <td>0.0</td>\n",
       "      <td>0.0</td>\n",
       "      <td>0.0</td>\n",
       "      <td>0.0</td>\n",
       "      <td>0.0</td>\n",
       "      <td>0.0</td>\n",
       "      <td>0.00000</td>\n",
       "      <td>...</td>\n",
       "      <td>0.0</td>\n",
       "      <td>0.0</td>\n",
       "      <td>0.0</td>\n",
       "      <td>0.0</td>\n",
       "      <td>0.0</td>\n",
       "      <td>0.0</td>\n",
       "      <td>0.0</td>\n",
       "      <td>0.0</td>\n",
       "      <td>0.000000</td>\n",
       "      <td>0.0</td>\n",
       "    </tr>\n",
       "  </tbody>\n",
       "</table>\n",
       "<p>5 rows × 541 columns</p>\n",
       "</div>"
      ],
      "text/plain": [
       "        row_id  AGRN  ICMT  SRM  DHRS3  ATP13A2  LYPLA2  PNRC2  UBXN11  \\\n",
       "0        tumor   0.0   0.0  0.0    0.0      0.0     0.0    0.0     0.0   \n",
       "1        tumor   0.0   0.0  0.0    0.0      0.0     0.0    0.0     0.0   \n",
       "2   fibroblast   0.0   0.0  0.0    0.0      0.0     0.0    0.0     0.0   \n",
       "3        tumor   0.0   0.0  0.0    0.0      0.0     0.0    0.0     0.0   \n",
       "4  endothelial   0.0   0.0  0.0    0.0      0.0     0.0    0.0     0.0   \n",
       "\n",
       "      CD52  ...    TOM1  CARD10  CDC42EP1  TTC38  TRMU  NCAPH2  FAM3B  PFKL  \\\n",
       "0  0.00000  ...     0.0     0.0       0.0    0.0   0.0     0.0    0.0   0.0   \n",
       "1  0.00000  ...     0.0     0.0       0.0    0.0   0.0     0.0    0.0   0.0   \n",
       "2  2.18733  ...     0.0     0.0       0.0    0.0   0.0     0.0    0.0   0.0   \n",
       "3  0.00000  ...     0.0     0.0       0.0    0.0   0.0     0.0    0.0   0.0   \n",
       "4  0.00000  ...     0.0     0.0       0.0    0.0   0.0     0.0    0.0   0.0   \n",
       "\n",
       "     MCM3AP  PRMT2  \n",
       "0  0.000000    0.0  \n",
       "1  0.000000    0.0  \n",
       "2  0.000000    0.0  \n",
       "3  2.274803    0.0  \n",
       "4  0.000000    0.0  \n",
       "\n",
       "[5 rows x 541 columns]"
      ]
     },
     "execution_count": 12,
     "metadata": {},
     "output_type": "execute_result"
    }
   ],
   "source": [
    "df_raw.head()"
   ]
  },
  {
   "cell_type": "code",
   "execution_count": 13,
   "metadata": {},
   "outputs": [],
   "source": [
    "df_tumor_ductal = df_raw[(df_raw['row_id'] == 'tumor') | (df_raw['row_id'] == 'ductal')]"
   ]
  },
  {
   "cell_type": "code",
   "execution_count": 14,
   "metadata": {},
   "outputs": [
    {
     "data": {
      "text/plain": [
       "row_id    0.000000\n",
       "AGRN      0.778533\n",
       "ICMT      0.966059\n",
       "SRM       0.959735\n",
       "DHRS3     0.656252\n",
       "dtype: float64"
      ]
     },
     "execution_count": 14,
     "metadata": {},
     "output_type": "execute_result"
    }
   ],
   "source": [
    "((df_tumor_ductal == 0).sum()/df_tumor_ductal.shape[0]).head()"
   ]
  },
  {
   "cell_type": "code",
   "execution_count": 17,
   "metadata": {},
   "outputs": [],
   "source": [
    "gene_list = []\n",
    "ttest_pvalue_list = []\n",
    "chisq_pvalue_list = []\n",
    "fisher_pvalue_list = []\n",
    "more_counts_list = []\n",
    "for gene in genes_to_keep:\n",
    "    tumor_values = df_tumor_ductal[df_tumor_ductal['row_id'] == 'tumor'][gene]\n",
    "    ductal_values = df_tumor_ductal[df_tumor_ductal['row_id'] == 'ductal'][gene]\n",
    "    \n",
    "    ttest_pvalue = t_test(tumor_values, ductal_values, alternative = 'greater')\n",
    "    \n",
    "    tumor_zero_count = np.sum(tumor_values ==0) \n",
    "    tumor_nonzero_count = np.sum(tumor_values !=0) \n",
    "    \n",
    "    ductal_zero_count = np.sum(ductal_values ==0) \n",
    "    ductal_nonzero_count = np.sum(ductal_values !=0) \n",
    "    \n",
    "    contingency = [[tumor_zero_count,ductal_zero_count],\n",
    "              [tumor_nonzero_count,ductal_nonzero_count]]\n",
    "\n",
    "    if (ductal_nonzero_count == 0) and (tumor_nonzero_count == 0):\n",
    "    \n",
    "        chisq_pvalue = 'n/a - all values are zero'\n",
    "        fisher_pvalue = 'n/a - all values are zero'\n",
    "\n",
    "    else:\n",
    "        _, chisq_pvalue, _,_ = chi2_contingency(contingency)\n",
    "        _, fisher_pvalue = fisher_exact(contingency)\n",
    "\n",
    "    if tumor_nonzero_count/tumor_zero_count > ductal_nonzero_count/ductal_zero_count:\n",
    "        more_counts_list.append('tumor')\n",
    "    else:\n",
    "        more_counts_list.append('ductal')\n",
    "        \n",
    "    gene_list.append(gene)\n",
    "    ttest_pvalue_list.append(ttest_pvalue)\n",
    "    chisq_pvalue_list.append(chisq_pvalue)\n",
    "    fisher_pvalue_list.append(fisher_pvalue)\n",
    "\n",
    "df_test_results = pd.DataFrame(\n",
    "{\n",
    "    'gene': gene_list,\n",
    "    'ttest_pvalue': ttest_pvalue_list,\n",
    "    'chisq_pvalue':chisq_pvalue_list,\n",
    "    'fisher_pvalue':fisher_pvalue_list,\n",
    "    'greater_pct_nonzero':more_counts_list\n",
    "}\n",
    ")"
   ]
  },
  {
   "cell_type": "code",
   "execution_count": 18,
   "metadata": {},
   "outputs": [],
   "source": [
    "df_test_results.to_csv('outputs/tumor_ductal_statistical_testing_{}.csv'.format(gene_list_name),index=False)"
   ]
  },
  {
   "cell_type": "code",
   "execution_count": null,
   "metadata": {},
   "outputs": [],
   "source": []
  }
 ],
 "metadata": {
  "kernelspec": {
   "display_name": "Python 3",
   "language": "python",
   "name": "python3"
  },
  "language_info": {
   "codemirror_mode": {
    "name": "ipython",
    "version": 3
   },
   "file_extension": ".py",
   "mimetype": "text/x-python",
   "name": "python",
   "nbconvert_exporter": "python",
   "pygments_lexer": "ipython3",
   "version": "3.6.7"
  }
 },
 "nbformat": 4,
 "nbformat_minor": 2
}
