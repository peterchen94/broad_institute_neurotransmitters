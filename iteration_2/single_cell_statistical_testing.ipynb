{
 "cells": [
  {
   "cell_type": "code",
   "execution_count": 1,
   "metadata": {},
   "outputs": [],
   "source": [
    "import h5py\n",
    "import numpy as np\n",
    "import pandas as pd\n",
    "import matplotlib.pyplot as plt\n",
    "from scipy.stats import ttest_ind, chi2_contingency, fisher_exact"
   ]
  },
  {
   "cell_type": "code",
   "execution_count": 2,
   "metadata": {},
   "outputs": [],
   "source": [
    "from scipy.stats import ttest_ind\n",
    "def t_test(x,y,alternative='both-sided'):\n",
    "    _, double_p = ttest_ind(x,y,equal_var = False)\n",
    "    if alternative == 'both-sided':\n",
    "        pval = double_p\n",
    "    elif alternative == 'greater':\n",
    "        if np.mean(x) > np.mean(y):\n",
    "            pval = double_p/2.\n",
    "        else:\n",
    "            pval = 1.0 - double_p/2.\n",
    "    elif alternative == 'less':\n",
    "        if np.mean(x) < np.mean(y):\n",
    "            pval = double_p/2.\n",
    "        else:\n",
    "            pval = 1.0 - double_p/2.\n",
    "    return pval"
   ]
  },
  {
   "cell_type": "markdown",
   "metadata": {},
   "source": [
    "## Goal: Run statistical analysis for single cell data\n",
    "\n",
    "Steps\n",
    "\n",
    "1. read single cell data and only read in specific genes (columns) specified in external spreadsheet\n",
    "    * FDA gene list\n",
    "    * Novel gene list\n",
    "2. apply statistical tests on a column by column basis for all genes for tumor vs ductal cells\n",
    "\n",
    "    * chi sq test for counts of zeros\n",
    "    * t test for raw data (sample means) - one tail = tumor > ductal\n",
    "    * fisher exact test for count of zeros\n",
    "\n",
    "## Outputs\n",
    "    *tumor_ductal_statistical_testing_fda.csv\n",
    "    *tumor_ductal_statistical_testing_novel.csv\n"
   ]
  },
  {
   "cell_type": "markdown",
   "metadata": {},
   "source": [
    "### inputs"
   ]
  },
  {
   "cell_type": "code",
   "execution_count": 3,
   "metadata": {},
   "outputs": [],
   "source": [
    "gene_list_csv = '../data/110920_fda drug list v1.csv'\n",
    "gene_list_name = 'fda_v1'"
   ]
  },
  {
   "cell_type": "code",
   "execution_count": 4,
   "metadata": {},
   "outputs": [],
   "source": [
    "rows = pd.read_csv('../data/rows for X.csv',header = None)\n",
    "\n",
    "row_index = list(rows[0])\n",
    "\n",
    "row_index = [val.lower() for val in row_index]\n",
    "\n",
    "headers = pd.read_csv('../data/columns for X.csv', header = None)\n",
    "\n",
    "genes_to_keep = pd.read_csv(gene_list_csv, header = None)\n",
    "\n",
    "genes_to_keep = list(genes_to_keep[0])\n",
    "\n",
    "column_names = list(headers[0])\n",
    "\n"
   ]
  },
  {
   "cell_type": "code",
   "execution_count": 5,
   "metadata": {},
   "outputs": [
    {
     "data": {
      "text/plain": [
       "(88031, 125)"
      ]
     },
     "execution_count": 5,
     "metadata": {},
     "output_type": "execute_result"
    }
   ],
   "source": [
    "df_raw = pd.read_csv('../data/X.csv',names = column_names, usecols=lambda c: c in set(genes_to_keep))\n",
    "\n",
    "df_raw.shape"
   ]
  },
  {
   "cell_type": "code",
   "execution_count": 6,
   "metadata": {},
   "outputs": [],
   "source": [
    "genes_to_keep = [gene for gene in genes_to_keep if gene in df_raw.columns]"
   ]
  },
  {
   "cell_type": "code",
   "execution_count": 7,
   "metadata": {},
   "outputs": [
    {
     "data": {
      "text/plain": [
       "Text(0.5, 1.0, 'percentage of 0s in columns - 153 subset of genes')"
      ]
     },
     "execution_count": 7,
     "metadata": {},
     "output_type": "execute_result"
    },
    {
     "data": {
      "image/png": "[encoded data removed]",
      "text/plain": [
       "<Figure size 432x288 with 1 Axes>"
      ]
     },
     "metadata": {
      "needs_background": "light"
     },
     "output_type": "display_data"
    }
   ],
   "source": [
    "plt.hist((df_raw == 0).sum()/df_raw.shape[0])\n",
    "plt.title('percentage of 0s in columns - 153 subset of genes')"
   ]
  },
  {
   "cell_type": "code",
   "execution_count": 8,
   "metadata": {},
   "outputs": [
    {
     "data": {
      "text/plain": [
       "(88031, 125)"
      ]
     },
     "execution_count": 8,
     "metadata": {},
     "output_type": "execute_result"
    }
   ],
   "source": [
    "df_raw.shape"
   ]
  },
  {
   "cell_type": "code",
   "execution_count": 9,
   "metadata": {},
   "outputs": [],
   "source": [
    "df_raw.index = row_index\n",
    "df_raw.reset_index(inplace=True)"
   ]
  },
  {
   "cell_type": "code",
   "execution_count": 10,
   "metadata": {},
   "outputs": [],
   "source": [
    "df_raw = df_raw.rename({'index':'row_id'}, axis = 1)"
   ]
  },
  {
   "cell_type": "code",
   "execution_count": 11,
   "metadata": {},
   "outputs": [
    {
     "data": {
      "text/html": [
       "<div>\n",
       "<style scoped>\n",
       "    .dataframe tbody tr th:only-of-type {\n",
       "        vertical-align: middle;\n",
       "    }\n",
       "\n",
       "    .dataframe tbody tr th {\n",
       "        vertical-align: top;\n",
       "    }\n",
       "\n",
       "    .dataframe thead th {\n",
       "        text-align: right;\n",
       "    }\n",
       "</style>\n",
       "<table border=\"1\" class=\"dataframe\">\n",
       "  <thead>\n",
       "    <tr style=\"text-align: right;\">\n",
       "      <th></th>\n",
       "      <th>row_id</th>\n",
       "      <th>ATAD3B</th>\n",
       "      <th>PRKCZ</th>\n",
       "      <th>UBR4</th>\n",
       "      <th>SLC9A1</th>\n",
       "      <th>MACF1</th>\n",
       "      <th>EPS15</th>\n",
       "      <th>NRAS</th>\n",
       "      <th>NOTCH2</th>\n",
       "      <th>FCGR2A</th>\n",
       "      <th>...</th>\n",
       "      <th>TJP3</th>\n",
       "      <th>SLC27A1</th>\n",
       "      <th>LPAR2</th>\n",
       "      <th>PLAUR</th>\n",
       "      <th>CYTH2</th>\n",
       "      <th>PTPRH</th>\n",
       "      <th>PI4KA</th>\n",
       "      <th>MAPK1</th>\n",
       "      <th>MIF</th>\n",
       "      <th>BACE2</th>\n",
       "    </tr>\n",
       "  </thead>\n",
       "  <tbody>\n",
       "    <tr>\n",
       "      <th>0</th>\n",
       "      <td>tumor</td>\n",
       "      <td>0.000000</td>\n",
       "      <td>0.0</td>\n",
       "      <td>0.0</td>\n",
       "      <td>0.0</td>\n",
       "      <td>3.036935</td>\n",
       "      <td>2.390654</td>\n",
       "      <td>0.0</td>\n",
       "      <td>0.0</td>\n",
       "      <td>0.0</td>\n",
       "      <td>...</td>\n",
       "      <td>0.0</td>\n",
       "      <td>0.0</td>\n",
       "      <td>0.0</td>\n",
       "      <td>3.426277</td>\n",
       "      <td>0.0</td>\n",
       "      <td>0.0</td>\n",
       "      <td>0.0</td>\n",
       "      <td>2.390654</td>\n",
       "      <td>0.0</td>\n",
       "      <td>2.390654</td>\n",
       "    </tr>\n",
       "    <tr>\n",
       "      <th>1</th>\n",
       "      <td>tumor</td>\n",
       "      <td>0.000000</td>\n",
       "      <td>0.0</td>\n",
       "      <td>0.0</td>\n",
       "      <td>0.0</td>\n",
       "      <td>3.188656</td>\n",
       "      <td>2.535909</td>\n",
       "      <td>0.0</td>\n",
       "      <td>0.0</td>\n",
       "      <td>0.0</td>\n",
       "      <td>...</td>\n",
       "      <td>0.0</td>\n",
       "      <td>0.0</td>\n",
       "      <td>0.0</td>\n",
       "      <td>2.535909</td>\n",
       "      <td>0.0</td>\n",
       "      <td>0.0</td>\n",
       "      <td>0.0</td>\n",
       "      <td>0.000000</td>\n",
       "      <td>0.0</td>\n",
       "      <td>0.000000</td>\n",
       "    </tr>\n",
       "    <tr>\n",
       "      <th>2</th>\n",
       "      <td>fibroblast</td>\n",
       "      <td>0.000000</td>\n",
       "      <td>0.0</td>\n",
       "      <td>0.0</td>\n",
       "      <td>0.0</td>\n",
       "      <td>0.000000</td>\n",
       "      <td>2.187330</td>\n",
       "      <td>0.0</td>\n",
       "      <td>0.0</td>\n",
       "      <td>0.0</td>\n",
       "      <td>...</td>\n",
       "      <td>0.0</td>\n",
       "      <td>0.0</td>\n",
       "      <td>0.0</td>\n",
       "      <td>0.000000</td>\n",
       "      <td>0.0</td>\n",
       "      <td>0.0</td>\n",
       "      <td>0.0</td>\n",
       "      <td>0.000000</td>\n",
       "      <td>0.0</td>\n",
       "      <td>0.000000</td>\n",
       "    </tr>\n",
       "    <tr>\n",
       "      <th>3</th>\n",
       "      <td>tumor</td>\n",
       "      <td>2.274803</td>\n",
       "      <td>0.0</td>\n",
       "      <td>0.0</td>\n",
       "      <td>0.0</td>\n",
       "      <td>3.302408</td>\n",
       "      <td>2.274803</td>\n",
       "      <td>0.0</td>\n",
       "      <td>0.0</td>\n",
       "      <td>0.0</td>\n",
       "      <td>...</td>\n",
       "      <td>0.0</td>\n",
       "      <td>0.0</td>\n",
       "      <td>0.0</td>\n",
       "      <td>2.915173</td>\n",
       "      <td>0.0</td>\n",
       "      <td>0.0</td>\n",
       "      <td>0.0</td>\n",
       "      <td>0.000000</td>\n",
       "      <td>0.0</td>\n",
       "      <td>2.274803</td>\n",
       "    </tr>\n",
       "    <tr>\n",
       "      <th>4</th>\n",
       "      <td>endothelial</td>\n",
       "      <td>0.000000</td>\n",
       "      <td>0.0</td>\n",
       "      <td>0.0</td>\n",
       "      <td>0.0</td>\n",
       "      <td>2.431281</td>\n",
       "      <td>0.000000</td>\n",
       "      <td>0.0</td>\n",
       "      <td>0.0</td>\n",
       "      <td>0.0</td>\n",
       "      <td>...</td>\n",
       "      <td>0.0</td>\n",
       "      <td>0.0</td>\n",
       "      <td>0.0</td>\n",
       "      <td>0.000000</td>\n",
       "      <td>0.0</td>\n",
       "      <td>0.0</td>\n",
       "      <td>0.0</td>\n",
       "      <td>0.000000</td>\n",
       "      <td>0.0</td>\n",
       "      <td>0.000000</td>\n",
       "    </tr>\n",
       "  </tbody>\n",
       "</table>\n",
       "<p>5 rows × 126 columns</p>\n",
       "</div>"
      ],
      "text/plain": [
       "        row_id    ATAD3B  PRKCZ  UBR4  SLC9A1     MACF1     EPS15  NRAS  \\\n",
       "0        tumor  0.000000    0.0   0.0     0.0  3.036935  2.390654   0.0   \n",
       "1        tumor  0.000000    0.0   0.0     0.0  3.188656  2.535909   0.0   \n",
       "2   fibroblast  0.000000    0.0   0.0     0.0  0.000000  2.187330   0.0   \n",
       "3        tumor  2.274803    0.0   0.0     0.0  3.302408  2.274803   0.0   \n",
       "4  endothelial  0.000000    0.0   0.0     0.0  2.431281  0.000000   0.0   \n",
       "\n",
       "   NOTCH2  FCGR2A    ...     TJP3  SLC27A1  LPAR2     PLAUR  CYTH2  PTPRH  \\\n",
       "0     0.0     0.0    ...      0.0      0.0    0.0  3.426277    0.0    0.0   \n",
       "1     0.0     0.0    ...      0.0      0.0    0.0  2.535909    0.0    0.0   \n",
       "2     0.0     0.0    ...      0.0      0.0    0.0  0.000000    0.0    0.0   \n",
       "3     0.0     0.0    ...      0.0      0.0    0.0  2.915173    0.0    0.0   \n",
       "4     0.0     0.0    ...      0.0      0.0    0.0  0.000000    0.0    0.0   \n",
       "\n",
       "   PI4KA     MAPK1  MIF     BACE2  \n",
       "0    0.0  2.390654  0.0  2.390654  \n",
       "1    0.0  0.000000  0.0  0.000000  \n",
       "2    0.0  0.000000  0.0  0.000000  \n",
       "3    0.0  0.000000  0.0  2.274803  \n",
       "4    0.0  0.000000  0.0  0.000000  \n",
       "\n",
       "[5 rows x 126 columns]"
      ]
     },
     "execution_count": 11,
     "metadata": {},
     "output_type": "execute_result"
    }
   ],
   "source": [
    "df_raw.head()"
   ]
  },
  {
   "cell_type": "code",
   "execution_count": 12,
   "metadata": {},
   "outputs": [],
   "source": [
    "df_tumor_ductal = df_raw[(df_raw['row_id'] == 'tumor') | (df_raw['row_id'] == 'ductal')]"
   ]
  },
  {
   "cell_type": "code",
   "execution_count": 13,
   "metadata": {},
   "outputs": [
    {
     "data": {
      "text/plain": [
       "row_id    0.000000\n",
       "ATAD3B    0.847247\n",
       "PRKCZ     0.805892\n",
       "UBR4      0.686386\n",
       "SLC9A1    0.854721\n",
       "dtype: float64"
      ]
     },
     "execution_count": 13,
     "metadata": {},
     "output_type": "execute_result"
    }
   ],
   "source": [
    "((df_tumor_ductal == 0).sum()/df_tumor_ductal.shape[0]).head()"
   ]
  },
  {
   "cell_type": "code",
   "execution_count": 14,
   "metadata": {},
   "outputs": [],
   "source": [
    "gene_list = []\n",
    "ttest_pvalue_list = []\n",
    "chisq_pvalue_list = []\n",
    "fisher_pvalue_list = []\n",
    "more_counts_list = []\n",
    "for gene in genes_to_keep:\n",
    "    tumor_values = df_tumor_ductal[df_tumor_ductal['row_id'] == 'tumor'][gene]\n",
    "    ductal_values = df_tumor_ductal[df_tumor_ductal['row_id'] == 'ductal'][gene]\n",
    "    \n",
    "    ttest_pvalue = t_test(tumor_values, ductal_values, alternative = 'greater')\n",
    "    \n",
    "    tumor_zero_count = np.sum(tumor_values ==0) \n",
    "    tumor_nonzero_count = np.sum(tumor_values !=0) \n",
    "    \n",
    "    ductal_zero_count = np.sum(ductal_values ==0) \n",
    "    ductal_nonzero_count = np.sum(ductal_values !=0) \n",
    "    \n",
    "    contingency = [[tumor_zero_count,ductal_zero_count],\n",
    "              [tumor_nonzero_count,ductal_nonzero_count]]\n",
    "\n",
    "    if (ductal_nonzero_count == 0) and (tumor_nonzero_count == 0):\n",
    "    \n",
    "        chisq_pvalue = 'n/a - all values are zero'\n",
    "        fisher_pvalue = 'n/a - all values are zero'\n",
    "\n",
    "    else:\n",
    "        _, chisq_pvalue, _,_ = chi2_contingency(contingency)\n",
    "        _, fisher_pvalue = fisher_exact(contingency)\n",
    "\n",
    "    if tumor_nonzero_count/tumor_zero_count > ductal_nonzero_count/ductal_zero_count:\n",
    "        more_counts_list.append('tumor')\n",
    "    else:\n",
    "        more_counts_list.append('ductal')\n",
    "        \n",
    "    gene_list.append(gene)\n",
    "    ttest_pvalue_list.append(ttest_pvalue)\n",
    "    chisq_pvalue_list.append(chisq_pvalue)\n",
    "    fisher_pvalue_list.append(fisher_pvalue)\n",
    "\n",
    "df_test_results = pd.DataFrame(\n",
    "{\n",
    "    'gene': gene_list,\n",
    "    'ttest_pvalue': ttest_pvalue_list,\n",
    "    'chisq_pvalue':chisq_pvalue_list,\n",
    "    'fisher_pvalue':fisher_pvalue_list,\n",
    "    'greater_pct_nonzero':more_counts_list\n",
    "}\n",
    ")"
   ]
  },
  {
   "cell_type": "code",
   "execution_count": 15,
   "metadata": {},
   "outputs": [],
   "source": [
    "df_test_results.to_csv('outputs/tumor_ductal_statistical_testing_{}.csv'.format(gene_list_name),index=False)"
   ]
  },
  {
   "cell_type": "code",
   "execution_count": null,
   "metadata": {},
   "outputs": [],
   "source": []
  }
 ],
 "metadata": {
  "kernelspec": {
   "display_name": "Python 3",
   "language": "python",
   "name": "python3"
  },
  "language_info": {
   "codemirror_mode": {
    "name": "ipython",
    "version": 3
   },
   "file_extension": ".py",
   "mimetype": "text/x-python",
   "name": "python",
   "nbconvert_exporter": "python",
   "pygments_lexer": "ipython3",
   "version": "3.6.7"
  }
 },
 "nbformat": 4,
 "nbformat_minor": 2
}
