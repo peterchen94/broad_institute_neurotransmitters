{
 "cells": [
  {
   "cell_type": "code",
   "execution_count": 2,
   "metadata": {},
   "outputs": [],
   "source": [
    "import pandas as pd\n",
    "import random\n",
    "import itertools\n",
    "import numpy as np\n",
    "import time \n",
    "import pickle\n",
    "from scipy.stats import ttest_ind, chi2_contingency, fisher_exact, ranksums\n",
    "from scipy.stats import pearsonr, spearmanr"
   ]
  },
  {
   "cell_type": "markdown",
   "metadata": {},
   "source": [
    "# Context and Background"
   ]
  },
  {
   "cell_type": "markdown",
   "metadata": {},
   "source": [
    "**this analysis will only be done on tumor cells**\n",
    "\n",
    "1. For each of the 22 genes on our short list, we are going to generate a list of the top 1000 other genes that covary with it the most. So for example, for GABRP, we will want to know which 1000 genes out of the entire transcriptome (so the whole matrix) have the highest correlation to it. Then I will run biological analyses on this list of 1000 genes that you give me.\n",
    "\n",
    "2. I am going to discuss in terms of GABRP because I think it will be easier just to use a specific gene as a case example. First, we will subset only to the cells that contain >0 expression of GABRP. This will hopefully make the computational analysis more streamlined by reducing the size of the dataset to work with.\n",
    "\n",
    "3. Then, for each two gene correlation assessment (e.g. GABRP and gene X), we will first evaluate if there are at least 100 cells in which there is non-zero expression for both GABRP and gene X. This is to isolate our analysis specifically to cells in which there are continuous values present, so that we don't have zero values tampering with our data. Do this for each combination of GABRP and every other gene remaining in the matrix - hopefully this will make the dataset smaller again.\n",
    "\n",
    "4. Now, in our matrix, we should only have GABRP and the genes for which there are at least 100 cells containing continuous expression values. Now for each pair of GABRP and gene X, let's generate a Pearson coefficient and Spearman's coefficient (both the R/p and also the p value), only on the cells that have continuous variables.\n"
   ]
  },
  {
   "cell_type": "code",
   "execution_count": 6,
   "metadata": {},
   "outputs": [],
   "source": [
    "column_names = pd.read_csv('data/columns for X.csv',header = None)\n",
    "column_names = list(column_names[0])\n",
    "\n",
    "rows = pd.read_csv('data/rows for X.csv',header = None)\n",
    "cell_type = list(rows[0])\n",
    "cell_type = [val.lower() for val in cell_type]\n",
    "\n",
    "gene_list_22 = pd.read_csv('data/gene_list_22.csv', header = None)\n",
    "gene_list_22 = list(gene_list_22[0])"
   ]
  },
  {
   "cell_type": "code",
   "execution_count": null,
   "metadata": {},
   "outputs": [],
   "source": [
    "df_22 = pd.read_csv('data/X.csv',names = column_names, usecols = gene_list_22)\n",
    "df_22 = df_22[gene_list_22]\n",
    "df_22['cell_type'] = cell_type\n",
    "df_22_tumor = df_22[df_22['cell_type'] == 'tumor']\n",
    "df_22_tumor.shape\n",
    "df_22_tumor.replace(0,np.nan, inplace = True)\n",
    "df_22_tumor_dropna = df_22_tumor.dropna(how = 'all', subset = gene_list_22)\n",
    "df_22_tumor_dropna.shape"
   ]
  },
  {
   "cell_type": "code",
   "execution_count": 33,
   "metadata": {},
   "outputs": [],
   "source": [
    "index_dict = {}\n",
    "for gene in gene_list_22:\n",
    "    index_dict[gene] = list(df_22_tumor[~df_22_tumor[gene].isna()].index)"
   ]
  },
  {
   "cell_type": "code",
   "execution_count": 3,
   "metadata": {},
   "outputs": [
    {
     "ename": "NameError",
     "evalue": "name 'index_dict' is not defined",
     "output_type": "error",
     "traceback": [
      "\u001b[0;31m---------------------------------------------------------------------------\u001b[0m",
      "\u001b[0;31mNameError\u001b[0m                                 Traceback (most recent call last)",
      "\u001b[0;32m<ipython-input-3-aa02fcd83047>\u001b[0m in \u001b[0;36m<module>\u001b[0;34m\u001b[0m\n\u001b[0;32m----> 1\u001b[0;31m \u001b[0mpickle\u001b[0m\u001b[0;34m.\u001b[0m\u001b[0mdump\u001b[0m\u001b[0;34m(\u001b[0m\u001b[0mindex_dict\u001b[0m\u001b[0;34m,\u001b[0m \u001b[0mopen\u001b[0m\u001b[0;34m(\u001b[0m\u001b[0;34m\"data/gene_22_index_dict.pkl\"\u001b[0m\u001b[0;34m,\u001b[0m \u001b[0;34m\"wb\"\u001b[0m\u001b[0;34m)\u001b[0m\u001b[0;34m)\u001b[0m  \u001b[0;31m# save it into a file named save.p\u001b[0m\u001b[0;34m\u001b[0m\u001b[0;34m\u001b[0m\u001b[0m\n\u001b[0m",
      "\u001b[0;31mNameError\u001b[0m: name 'index_dict' is not defined"
     ]
    }
   ],
   "source": [
    "pickle.dump(index_dict, open(\"data/gene_22_index_dict.pkl\", \"wb\"))  # save it into a file named save.p"
   ]
  },
  {
   "cell_type": "code",
   "execution_count": 4,
   "metadata": {},
   "outputs": [],
   "source": [
    "with open(\"data/gene_22_index_dict.pkl\", \"rb\") as f:\n",
    "    index_dict = pickle.load(f)"
   ]
  },
  {
   "cell_type": "code",
   "execution_count": 37,
   "metadata": {},
   "outputs": [],
   "source": [
    "\n",
    "gene_col_list = []\n",
    "r_pearson_list = []\n",
    "r_spearman_list = []\n",
    "p_pearson_list = []\n",
    "p_spearman_list = []\n",
    "n_rows_list = []\n",
    "\n",
    "for col in df_g.columns:\n",
    "    filename = '{}_correlation.csv'.format(gene)\n",
    "    if col not in gene:\n",
    "        df_subset = df_g[[gene,col]]\n",
    "        df_subset_filtered = df_subset[~df_subset[col].isna()]\n",
    "        r_pearson, p_pearson = pearsonr(df_subset_filtered[gene], df_subset_filtered[col])\n",
    "        r_spearman, p_spearman = spearmanr(df_subset_filtered[gene], df_subset_filtered[col])\n",
    "        \n",
    "        n_rows = df_subset_filtered.shape[0]\n",
    "        gene_col_list.append(col)\n",
    "        r_pearson_list.append(r_pearson)\n",
    "        p_pearson_list.append(p_pearson)\n",
    "        \n",
    "        r_spearman_list.append(r_spearman)\n",
    "        p_spearman_list.append(p_spearman)        \n",
    "        \n",
    "        n_rows_list.append(n_rows)\n"
   ]
  },
  {
   "cell_type": "code",
   "execution_count": 39,
   "metadata": {},
   "outputs": [],
   "source": [
    "df_gene_corr = pd.DataFrame({'gene':gene_col_list,\n",
    "                             'r_pearson':np.round(r_pearson_list,5),\n",
    "                             'p_pearson':p_pearson_list,\n",
    "                             'r_spearman':np.round(r_spearman_list,5),\n",
    "                             'p_spearman':p_spearman_list,\n",
    "                             'n_rows_nonzero' : n_rows_list\n",
    "                            })\n",
    "df_gene_corr.sort_values(by= 'r_pearson', ascending = False, inplace = True)\n",
    "df_gene_corr.to_csv('data/single_cell_correlation/{}'.format(filename),index = False)"
   ]
  },
  {
   "cell_type": "code",
   "execution_count": 7,
   "metadata": {},
   "outputs": [
    {
     "name": "stdout",
     "output_type": "stream",
     "text": [
      "start with GABRP\n",
      "data read - shape = (12570, 14081)\n",
      "done with GABRP at 514.068\n",
      "start with SLC6A12\n",
      "data read - shape = (200, 1699)\n",
      "done with SLC6A12 at 570.531\n",
      "start with GAD1\n",
      "data read - shape = (2106, 11146)\n",
      "done with GAD1 at 715.466\n",
      "start with GABRE\n",
      "data read - shape = (8780, 13946)\n",
      "done with GABRE at 1075.034\n",
      "start with HTR2B\n",
      "data read - shape = (445, 5475)\n",
      "done with HTR2B at 1143.325\n",
      "start with PAM\n",
      "data read - shape = (21091, 15202)\n",
      "done with PAM at 1900.141\n",
      "start with SLC38A1\n",
      "data read - shape = (18769, 15033)\n",
      "done with SLC38A1 at 2586.453\n",
      "start with CHRNA5\n",
      "data read - shape = (1956, 11298)\n",
      "done with CHRNA5 at 2717.972\n",
      "start with GRIN2D\n",
      "data read - shape = (6287, 13328)\n",
      "done with GRIN2D at 2990.521\n",
      "start with DRD4\n",
      "data read - shape = (1757, 10489)\n",
      "done with DRD4 at 3113.470\n",
      "start with ABAT\n",
      "data read - shape = (4379, 12876)\n",
      "done with ABAT at 3325.112\n",
      "start with GLUL\n",
      "data read - shape = (11028, 14161)\n",
      "done with GLUL at 3762.712\n",
      "start with GLUD1\n",
      "data read - shape = (12743, 14597)\n",
      "done with GLUD1 at 4248.275\n",
      "start with HTR1D\n",
      "data read - shape = (170, 1386)\n",
      "done with HTR1D at 4301.770\n",
      "start with DDC\n",
      "data read - shape = (101, 3)\n",
      "done with DDC at 4348.606\n",
      "start with ACHE\n",
      "data read - shape = (2227, 10937)\n",
      "done with ACHE at 4485.273\n",
      "start with SLC1A3\n",
      "data read - shape = (3565, 12019)\n",
      "done with SLC1A3 at 4678.623\n",
      "start with SLC38A2\n",
      "data read - shape = (16978, 14926)\n",
      "done with SLC38A2 at 5301.672\n",
      "start with SLC38A5\n",
      "data read - shape = (1654, 10405)\n",
      "done with SLC38A5 at 5423.657\n",
      "start with ALDH2\n",
      "data read - shape = (9334, 13945)\n",
      "done with ALDH2 at 5802.927\n",
      "start with TAC3\n",
      "data read - shape = (1363, 10055)\n",
      "done with TAC3 at 5955.282\n",
      "start with ACE\n",
      "data read - shape = (785, 7859)\n",
      "done with ACE at 6086.966\n"
     ]
    }
   ],
   "source": [
    "start = time.time()\n",
    "\n",
    "for gene in gene_list_22:\n",
    "    \n",
    "    print('start with {}'.format(gene))\n",
    "    skiprows = [i for i in np.arange(88031) if i not in index_dict[gene]]\n",
    "    df_g = pd.read_csv('data/X.csv',names = column_names, skiprows = skiprows)\n",
    "    df_g.replace(0,np.nan, inplace = True)\n",
    "    df_g.dropna(axis = 1, thresh = 100, inplace = True)\n",
    "    \n",
    "    \n",
    "    print('data read - shape = {}'.format(df_g.shape))\n",
    "    gene_col_list = []\n",
    "    r_pearson_list = []\n",
    "    r_spearman_list = []\n",
    "    p_pearson_list = []\n",
    "    p_spearman_list = []\n",
    "    n_rows_list = []\n",
    "\n",
    "    for col in df_g.columns:\n",
    "        filename = '{}_correlation.csv'.format(gene)\n",
    "        if col not in gene:\n",
    "            df_subset = df_g[[gene,col]]\n",
    "            df_subset_filtered = df_subset[~df_subset[col].isna()]\n",
    "            r_pearson, p_pearson = pearsonr(df_subset_filtered[gene], df_subset_filtered[col])\n",
    "            r_spearman, p_spearman = spearmanr(df_subset_filtered[gene], df_subset_filtered[col])\n",
    "\n",
    "            n_rows = df_subset_filtered.shape[0]\n",
    "            gene_col_list.append(col)\n",
    "            r_pearson_list.append(r_pearson)\n",
    "            p_pearson_list.append(p_pearson)\n",
    "\n",
    "            r_spearman_list.append(r_spearman)\n",
    "            p_spearman_list.append(p_spearman)        \n",
    "\n",
    "            n_rows_list.append(n_rows)\n",
    "            \n",
    "    df_gene_corr = pd.DataFrame({'gene':gene_col_list,\n",
    "                                 'r_pearson':np.round(r_pearson_list,5),\n",
    "                                 'p_pearson':p_pearson_list,\n",
    "                                 'r_spearman':np.round(r_spearman_list,5),\n",
    "                                 'p_spearman':p_spearman_list,\n",
    "                                 'n_rows_nonzero' : n_rows_list\n",
    "                                })\n",
    "    df_gene_corr.sort_values(by= 'r_pearson', ascending = False, inplace = True)\n",
    "    df_gene_corr.to_csv('data/single_cell_correlation/{}'.format(filename),index = False)\n",
    "    \n",
    "    print('done with {} at {:.3f}'.format(gene, time.time()- start))"
   ]
  },
  {
   "cell_type": "code",
   "execution_count": null,
   "metadata": {},
   "outputs": [],
   "source": []
  }
 ],
 "metadata": {
  "kernelspec": {
   "display_name": "Python 3",
   "language": "python",
   "name": "python3"
  },
  "language_info": {
   "codemirror_mode": {
    "name": "ipython",
    "version": 3
   },
   "file_extension": ".py",
   "mimetype": "text/x-python",
   "name": "python",
   "nbconvert_exporter": "python",
   "pygments_lexer": "ipython3",
   "version": "3.6.7"
  }
 },
 "nbformat": 4,
 "nbformat_minor": 2
}
